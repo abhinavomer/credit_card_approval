{
 "cells": [
  {
   "cell_type": "code",
   "execution_count": 33,
   "id": "65943973-7ffc-455f-b7a2-5c068a59186e",
   "metadata": {},
   "outputs": [],
   "source": [
    "#data manipulation\n",
    "import pandas as pd\n",
    "\n",
    "# mathematical functions\n",
    "import numpy as np\n",
    "from scipy.stats import randint, uniform\n",
    "import random\n",
    "\n",
    "# data splitting\n",
    "from sklearn.model_selection import train_test_split\n",
    "\n",
    "# data preprocessing\n",
    "from sklearn.preprocessing import StandardScaler, MinMaxScaler, OneHotEncoder, OrdinalEncoder\n",
    "import category_encoders as ce\n",
    "from category_encoders import BinaryEncoder\n",
    "from imblearn.over_sampling import SMOTE\n",
    "from sklearn.cluster import KMeans\n",
    "\n",
    "# algorithms\n",
    "from sklearn.linear_model import LogisticRegression \n",
    "from sklearn.neighbors import KNeighborsClassifier\n",
    "from sklearn.ensemble import RandomForestClassifier\n",
    "from xgboost import XGBClassifier\n",
    "from sklearn.svm import SVC\n",
    "\n",
    "# model training requirements\n",
    "import warnings\n",
    "from sklearn.model_selection import RandomizedSearchCV, KFold\n",
    "\n",
    "# model evaluation\n",
    "from sklearn.metrics import f1_score\n",
    "from sklearn.metrics import classification_report\n",
    "\n",
    "# save model\n",
    "import joblib"
   ]
  },
  {
   "cell_type": "code",
   "execution_count": 34,
   "id": "2bb8b2ec-33e8-41cf-9144-a4d0b0a75e19",
   "metadata": {},
   "outputs": [
    {
     "name": "stdout",
     "output_type": "stream",
     "text": [
      "The shape of df1: (438557, 18)\n"
     ]
    },
    {
     "data": {
      "text/html": [
       "<div>\n",
       "<style scoped>\n",
       "    .dataframe tbody tr th:only-of-type {\n",
       "        vertical-align: middle;\n",
       "    }\n",
       "\n",
       "    .dataframe tbody tr th {\n",
       "        vertical-align: top;\n",
       "    }\n",
       "\n",
       "    .dataframe thead th {\n",
       "        text-align: right;\n",
       "    }\n",
       "</style>\n",
       "<table border=\"1\" class=\"dataframe\">\n",
       "  <thead>\n",
       "    <tr style=\"text-align: right;\">\n",
       "      <th></th>\n",
       "      <th>ID</th>\n",
       "      <th>CODE_GENDER</th>\n",
       "      <th>FLAG_OWN_CAR</th>\n",
       "      <th>FLAG_OWN_REALTY</th>\n",
       "      <th>CNT_CHILDREN</th>\n",
       "      <th>AMT_INCOME_TOTAL</th>\n",
       "      <th>NAME_INCOME_TYPE</th>\n",
       "      <th>NAME_EDUCATION_TYPE</th>\n",
       "      <th>NAME_FAMILY_STATUS</th>\n",
       "      <th>NAME_HOUSING_TYPE</th>\n",
       "      <th>DAYS_BIRTH</th>\n",
       "      <th>DAYS_EMPLOYED</th>\n",
       "      <th>FLAG_MOBIL</th>\n",
       "      <th>FLAG_WORK_PHONE</th>\n",
       "      <th>FLAG_PHONE</th>\n",
       "      <th>FLAG_EMAIL</th>\n",
       "      <th>OCCUPATION_TYPE</th>\n",
       "      <th>CNT_FAM_MEMBERS</th>\n",
       "    </tr>\n",
       "  </thead>\n",
       "  <tbody>\n",
       "    <tr>\n",
       "      <th>0</th>\n",
       "      <td>5008804</td>\n",
       "      <td>M</td>\n",
       "      <td>Y</td>\n",
       "      <td>Y</td>\n",
       "      <td>0</td>\n",
       "      <td>427500.0</td>\n",
       "      <td>Working</td>\n",
       "      <td>Higher education</td>\n",
       "      <td>Civil marriage</td>\n",
       "      <td>Rented apartment</td>\n",
       "      <td>-12005</td>\n",
       "      <td>-4542</td>\n",
       "      <td>1</td>\n",
       "      <td>1</td>\n",
       "      <td>0</td>\n",
       "      <td>0</td>\n",
       "      <td>NaN</td>\n",
       "      <td>2.0</td>\n",
       "    </tr>\n",
       "    <tr>\n",
       "      <th>1</th>\n",
       "      <td>5008805</td>\n",
       "      <td>M</td>\n",
       "      <td>Y</td>\n",
       "      <td>Y</td>\n",
       "      <td>0</td>\n",
       "      <td>427500.0</td>\n",
       "      <td>Working</td>\n",
       "      <td>Higher education</td>\n",
       "      <td>Civil marriage</td>\n",
       "      <td>Rented apartment</td>\n",
       "      <td>-12005</td>\n",
       "      <td>-4542</td>\n",
       "      <td>1</td>\n",
       "      <td>1</td>\n",
       "      <td>0</td>\n",
       "      <td>0</td>\n",
       "      <td>NaN</td>\n",
       "      <td>2.0</td>\n",
       "    </tr>\n",
       "    <tr>\n",
       "      <th>2</th>\n",
       "      <td>5008806</td>\n",
       "      <td>M</td>\n",
       "      <td>Y</td>\n",
       "      <td>Y</td>\n",
       "      <td>0</td>\n",
       "      <td>112500.0</td>\n",
       "      <td>Working</td>\n",
       "      <td>Secondary / secondary special</td>\n",
       "      <td>Married</td>\n",
       "      <td>House / apartment</td>\n",
       "      <td>-21474</td>\n",
       "      <td>-1134</td>\n",
       "      <td>1</td>\n",
       "      <td>0</td>\n",
       "      <td>0</td>\n",
       "      <td>0</td>\n",
       "      <td>Security staff</td>\n",
       "      <td>2.0</td>\n",
       "    </tr>\n",
       "    <tr>\n",
       "      <th>3</th>\n",
       "      <td>5008808</td>\n",
       "      <td>F</td>\n",
       "      <td>N</td>\n",
       "      <td>Y</td>\n",
       "      <td>0</td>\n",
       "      <td>270000.0</td>\n",
       "      <td>Commercial associate</td>\n",
       "      <td>Secondary / secondary special</td>\n",
       "      <td>Single / not married</td>\n",
       "      <td>House / apartment</td>\n",
       "      <td>-19110</td>\n",
       "      <td>-3051</td>\n",
       "      <td>1</td>\n",
       "      <td>0</td>\n",
       "      <td>1</td>\n",
       "      <td>1</td>\n",
       "      <td>Sales staff</td>\n",
       "      <td>1.0</td>\n",
       "    </tr>\n",
       "    <tr>\n",
       "      <th>4</th>\n",
       "      <td>5008809</td>\n",
       "      <td>F</td>\n",
       "      <td>N</td>\n",
       "      <td>Y</td>\n",
       "      <td>0</td>\n",
       "      <td>270000.0</td>\n",
       "      <td>Commercial associate</td>\n",
       "      <td>Secondary / secondary special</td>\n",
       "      <td>Single / not married</td>\n",
       "      <td>House / apartment</td>\n",
       "      <td>-19110</td>\n",
       "      <td>-3051</td>\n",
       "      <td>1</td>\n",
       "      <td>0</td>\n",
       "      <td>1</td>\n",
       "      <td>1</td>\n",
       "      <td>Sales staff</td>\n",
       "      <td>1.0</td>\n",
       "    </tr>\n",
       "  </tbody>\n",
       "</table>\n",
       "</div>"
      ],
      "text/plain": [
       "        ID CODE_GENDER FLAG_OWN_CAR FLAG_OWN_REALTY  CNT_CHILDREN  \\\n",
       "0  5008804           M            Y               Y             0   \n",
       "1  5008805           M            Y               Y             0   \n",
       "2  5008806           M            Y               Y             0   \n",
       "3  5008808           F            N               Y             0   \n",
       "4  5008809           F            N               Y             0   \n",
       "\n",
       "   AMT_INCOME_TOTAL      NAME_INCOME_TYPE            NAME_EDUCATION_TYPE  \\\n",
       "0          427500.0               Working               Higher education   \n",
       "1          427500.0               Working               Higher education   \n",
       "2          112500.0               Working  Secondary / secondary special   \n",
       "3          270000.0  Commercial associate  Secondary / secondary special   \n",
       "4          270000.0  Commercial associate  Secondary / secondary special   \n",
       "\n",
       "     NAME_FAMILY_STATUS  NAME_HOUSING_TYPE  DAYS_BIRTH  DAYS_EMPLOYED  \\\n",
       "0        Civil marriage   Rented apartment      -12005          -4542   \n",
       "1        Civil marriage   Rented apartment      -12005          -4542   \n",
       "2               Married  House / apartment      -21474          -1134   \n",
       "3  Single / not married  House / apartment      -19110          -3051   \n",
       "4  Single / not married  House / apartment      -19110          -3051   \n",
       "\n",
       "   FLAG_MOBIL  FLAG_WORK_PHONE  FLAG_PHONE  FLAG_EMAIL OCCUPATION_TYPE  \\\n",
       "0           1                1           0           0             NaN   \n",
       "1           1                1           0           0             NaN   \n",
       "2           1                0           0           0  Security staff   \n",
       "3           1                0           1           1     Sales staff   \n",
       "4           1                0           1           1     Sales staff   \n",
       "\n",
       "   CNT_FAM_MEMBERS  \n",
       "0              2.0  \n",
       "1              2.0  \n",
       "2              2.0  \n",
       "3              1.0  \n",
       "4              1.0  "
      ]
     },
     "execution_count": 34,
     "metadata": {},
     "output_type": "execute_result"
    }
   ],
   "source": [
    "# gathering dataset for building prediction model\n",
    "df1 = pd.read_csv(\"application_record.csv\")\n",
    "\n",
    "# remove spaces in columns name\n",
    "df1.columns = df1.columns.str.replace(' ','_')\n",
    "\n",
    "# print shape of df\n",
    "print(\"The shape of df1:\", df1.shape)\n",
    "\n",
    "df1.head()"
   ]
  },
  {
   "cell_type": "code",
   "execution_count": 35,
   "id": "4cf1a568-3934-414d-9ce7-f2223f3ade6b",
   "metadata": {},
   "outputs": [
    {
     "name": "stdout",
     "output_type": "stream",
     "text": [
      "The shape of df2: (1048575, 3)\n"
     ]
    },
    {
     "data": {
      "text/html": [
       "<div>\n",
       "<style scoped>\n",
       "    .dataframe tbody tr th:only-of-type {\n",
       "        vertical-align: middle;\n",
       "    }\n",
       "\n",
       "    .dataframe tbody tr th {\n",
       "        vertical-align: top;\n",
       "    }\n",
       "\n",
       "    .dataframe thead th {\n",
       "        text-align: right;\n",
       "    }\n",
       "</style>\n",
       "<table border=\"1\" class=\"dataframe\">\n",
       "  <thead>\n",
       "    <tr style=\"text-align: right;\">\n",
       "      <th></th>\n",
       "      <th>ID</th>\n",
       "      <th>MONTHS_BALANCE</th>\n",
       "      <th>STATUS</th>\n",
       "    </tr>\n",
       "  </thead>\n",
       "  <tbody>\n",
       "    <tr>\n",
       "      <th>0</th>\n",
       "      <td>5001711</td>\n",
       "      <td>0</td>\n",
       "      <td>X</td>\n",
       "    </tr>\n",
       "    <tr>\n",
       "      <th>1</th>\n",
       "      <td>5001711</td>\n",
       "      <td>-1</td>\n",
       "      <td>0</td>\n",
       "    </tr>\n",
       "    <tr>\n",
       "      <th>2</th>\n",
       "      <td>5001711</td>\n",
       "      <td>-2</td>\n",
       "      <td>0</td>\n",
       "    </tr>\n",
       "    <tr>\n",
       "      <th>3</th>\n",
       "      <td>5001711</td>\n",
       "      <td>-3</td>\n",
       "      <td>0</td>\n",
       "    </tr>\n",
       "    <tr>\n",
       "      <th>4</th>\n",
       "      <td>5001712</td>\n",
       "      <td>0</td>\n",
       "      <td>C</td>\n",
       "    </tr>\n",
       "  </tbody>\n",
       "</table>\n",
       "</div>"
      ],
      "text/plain": [
       "        ID  MONTHS_BALANCE STATUS\n",
       "0  5001711               0      X\n",
       "1  5001711              -1      0\n",
       "2  5001711              -2      0\n",
       "3  5001711              -3      0\n",
       "4  5001712               0      C"
      ]
     },
     "execution_count": 35,
     "metadata": {},
     "output_type": "execute_result"
    }
   ],
   "source": [
    "# gathering dataset for building prediction model\n",
    "df2 = pd.read_csv(\"credit_record.csv\")\n",
    "\n",
    "# remove spaces in columns name\n",
    "df2.columns = df2.columns.str.replace(' ','_')\n",
    "\n",
    "# print shape of df\n",
    "print(\"The shape of df2:\", df2.shape)\n",
    "\n",
    "df2.head()"
   ]
  },
  {
   "cell_type": "code",
   "execution_count": 36,
   "id": "2f11de21-89b7-43f7-8856-edd9f9bf3736",
   "metadata": {},
   "outputs": [
    {
     "name": "stdout",
     "output_type": "stream",
     "text": [
      "The shape of df: (1450675, 20)\n"
     ]
    },
    {
     "data": {
      "text/html": [
       "<div>\n",
       "<style scoped>\n",
       "    .dataframe tbody tr th:only-of-type {\n",
       "        vertical-align: middle;\n",
       "    }\n",
       "\n",
       "    .dataframe tbody tr th {\n",
       "        vertical-align: top;\n",
       "    }\n",
       "\n",
       "    .dataframe thead th {\n",
       "        text-align: right;\n",
       "    }\n",
       "</style>\n",
       "<table border=\"1\" class=\"dataframe\">\n",
       "  <thead>\n",
       "    <tr style=\"text-align: right;\">\n",
       "      <th></th>\n",
       "      <th>ID</th>\n",
       "      <th>CODE_GENDER</th>\n",
       "      <th>FLAG_OWN_CAR</th>\n",
       "      <th>FLAG_OWN_REALTY</th>\n",
       "      <th>CNT_CHILDREN</th>\n",
       "      <th>AMT_INCOME_TOTAL</th>\n",
       "      <th>NAME_INCOME_TYPE</th>\n",
       "      <th>NAME_EDUCATION_TYPE</th>\n",
       "      <th>NAME_FAMILY_STATUS</th>\n",
       "      <th>NAME_HOUSING_TYPE</th>\n",
       "      <th>DAYS_BIRTH</th>\n",
       "      <th>DAYS_EMPLOYED</th>\n",
       "      <th>FLAG_MOBIL</th>\n",
       "      <th>FLAG_WORK_PHONE</th>\n",
       "      <th>FLAG_PHONE</th>\n",
       "      <th>FLAG_EMAIL</th>\n",
       "      <th>OCCUPATION_TYPE</th>\n",
       "      <th>CNT_FAM_MEMBERS</th>\n",
       "      <th>MONTHS_BALANCE</th>\n",
       "      <th>STATUS</th>\n",
       "    </tr>\n",
       "  </thead>\n",
       "  <tbody>\n",
       "    <tr>\n",
       "      <th>0</th>\n",
       "      <td>5008804</td>\n",
       "      <td>M</td>\n",
       "      <td>Y</td>\n",
       "      <td>Y</td>\n",
       "      <td>0.0</td>\n",
       "      <td>427500.0</td>\n",
       "      <td>Working</td>\n",
       "      <td>Higher education</td>\n",
       "      <td>Civil marriage</td>\n",
       "      <td>Rented apartment</td>\n",
       "      <td>-12005.0</td>\n",
       "      <td>-4542.0</td>\n",
       "      <td>1.0</td>\n",
       "      <td>1.0</td>\n",
       "      <td>0.0</td>\n",
       "      <td>0.0</td>\n",
       "      <td>NaN</td>\n",
       "      <td>2.0</td>\n",
       "      <td>0.0</td>\n",
       "      <td>C</td>\n",
       "    </tr>\n",
       "    <tr>\n",
       "      <th>1</th>\n",
       "      <td>5008804</td>\n",
       "      <td>M</td>\n",
       "      <td>Y</td>\n",
       "      <td>Y</td>\n",
       "      <td>0.0</td>\n",
       "      <td>427500.0</td>\n",
       "      <td>Working</td>\n",
       "      <td>Higher education</td>\n",
       "      <td>Civil marriage</td>\n",
       "      <td>Rented apartment</td>\n",
       "      <td>-12005.0</td>\n",
       "      <td>-4542.0</td>\n",
       "      <td>1.0</td>\n",
       "      <td>1.0</td>\n",
       "      <td>0.0</td>\n",
       "      <td>0.0</td>\n",
       "      <td>NaN</td>\n",
       "      <td>2.0</td>\n",
       "      <td>-1.0</td>\n",
       "      <td>C</td>\n",
       "    </tr>\n",
       "    <tr>\n",
       "      <th>2</th>\n",
       "      <td>5008804</td>\n",
       "      <td>M</td>\n",
       "      <td>Y</td>\n",
       "      <td>Y</td>\n",
       "      <td>0.0</td>\n",
       "      <td>427500.0</td>\n",
       "      <td>Working</td>\n",
       "      <td>Higher education</td>\n",
       "      <td>Civil marriage</td>\n",
       "      <td>Rented apartment</td>\n",
       "      <td>-12005.0</td>\n",
       "      <td>-4542.0</td>\n",
       "      <td>1.0</td>\n",
       "      <td>1.0</td>\n",
       "      <td>0.0</td>\n",
       "      <td>0.0</td>\n",
       "      <td>NaN</td>\n",
       "      <td>2.0</td>\n",
       "      <td>-2.0</td>\n",
       "      <td>C</td>\n",
       "    </tr>\n",
       "    <tr>\n",
       "      <th>3</th>\n",
       "      <td>5008804</td>\n",
       "      <td>M</td>\n",
       "      <td>Y</td>\n",
       "      <td>Y</td>\n",
       "      <td>0.0</td>\n",
       "      <td>427500.0</td>\n",
       "      <td>Working</td>\n",
       "      <td>Higher education</td>\n",
       "      <td>Civil marriage</td>\n",
       "      <td>Rented apartment</td>\n",
       "      <td>-12005.0</td>\n",
       "      <td>-4542.0</td>\n",
       "      <td>1.0</td>\n",
       "      <td>1.0</td>\n",
       "      <td>0.0</td>\n",
       "      <td>0.0</td>\n",
       "      <td>NaN</td>\n",
       "      <td>2.0</td>\n",
       "      <td>-3.0</td>\n",
       "      <td>C</td>\n",
       "    </tr>\n",
       "    <tr>\n",
       "      <th>4</th>\n",
       "      <td>5008804</td>\n",
       "      <td>M</td>\n",
       "      <td>Y</td>\n",
       "      <td>Y</td>\n",
       "      <td>0.0</td>\n",
       "      <td>427500.0</td>\n",
       "      <td>Working</td>\n",
       "      <td>Higher education</td>\n",
       "      <td>Civil marriage</td>\n",
       "      <td>Rented apartment</td>\n",
       "      <td>-12005.0</td>\n",
       "      <td>-4542.0</td>\n",
       "      <td>1.0</td>\n",
       "      <td>1.0</td>\n",
       "      <td>0.0</td>\n",
       "      <td>0.0</td>\n",
       "      <td>NaN</td>\n",
       "      <td>2.0</td>\n",
       "      <td>-4.0</td>\n",
       "      <td>C</td>\n",
       "    </tr>\n",
       "  </tbody>\n",
       "</table>\n",
       "</div>"
      ],
      "text/plain": [
       "        ID CODE_GENDER FLAG_OWN_CAR FLAG_OWN_REALTY  CNT_CHILDREN  \\\n",
       "0  5008804           M            Y               Y           0.0   \n",
       "1  5008804           M            Y               Y           0.0   \n",
       "2  5008804           M            Y               Y           0.0   \n",
       "3  5008804           M            Y               Y           0.0   \n",
       "4  5008804           M            Y               Y           0.0   \n",
       "\n",
       "   AMT_INCOME_TOTAL NAME_INCOME_TYPE NAME_EDUCATION_TYPE NAME_FAMILY_STATUS  \\\n",
       "0          427500.0          Working    Higher education     Civil marriage   \n",
       "1          427500.0          Working    Higher education     Civil marriage   \n",
       "2          427500.0          Working    Higher education     Civil marriage   \n",
       "3          427500.0          Working    Higher education     Civil marriage   \n",
       "4          427500.0          Working    Higher education     Civil marriage   \n",
       "\n",
       "  NAME_HOUSING_TYPE  DAYS_BIRTH  DAYS_EMPLOYED  FLAG_MOBIL  FLAG_WORK_PHONE  \\\n",
       "0  Rented apartment    -12005.0        -4542.0         1.0              1.0   \n",
       "1  Rented apartment    -12005.0        -4542.0         1.0              1.0   \n",
       "2  Rented apartment    -12005.0        -4542.0         1.0              1.0   \n",
       "3  Rented apartment    -12005.0        -4542.0         1.0              1.0   \n",
       "4  Rented apartment    -12005.0        -4542.0         1.0              1.0   \n",
       "\n",
       "   FLAG_PHONE  FLAG_EMAIL OCCUPATION_TYPE  CNT_FAM_MEMBERS  MONTHS_BALANCE  \\\n",
       "0         0.0         0.0             NaN              2.0             0.0   \n",
       "1         0.0         0.0             NaN              2.0            -1.0   \n",
       "2         0.0         0.0             NaN              2.0            -2.0   \n",
       "3         0.0         0.0             NaN              2.0            -3.0   \n",
       "4         0.0         0.0             NaN              2.0            -4.0   \n",
       "\n",
       "  STATUS  \n",
       "0      C  \n",
       "1      C  \n",
       "2      C  \n",
       "3      C  \n",
       "4      C  "
      ]
     },
     "execution_count": 36,
     "metadata": {},
     "output_type": "execute_result"
    }
   ],
   "source": [
    "# perform inner join on ID column\n",
    "df = pd.merge(df1, df2, on='ID', how='outer')\n",
    "\n",
    "# print shape of df\n",
    "print(\"The shape of df:\", df.shape)\n",
    "\n",
    "df.head()"
   ]
  },
  {
   "cell_type": "code",
   "execution_count": 37,
   "id": "7ee50112-5155-442c-914c-646f040b40f4",
   "metadata": {},
   "outputs": [
    {
     "data": {
      "text/html": [
       "<div>\n",
       "<style scoped>\n",
       "    .dataframe tbody tr th:only-of-type {\n",
       "        vertical-align: middle;\n",
       "    }\n",
       "\n",
       "    .dataframe tbody tr th {\n",
       "        vertical-align: top;\n",
       "    }\n",
       "\n",
       "    .dataframe thead th {\n",
       "        text-align: right;\n",
       "    }\n",
       "</style>\n",
       "<table border=\"1\" class=\"dataframe\">\n",
       "  <thead>\n",
       "    <tr style=\"text-align: right;\">\n",
       "      <th></th>\n",
       "      <th>ID</th>\n",
       "      <th>CODE_GENDER</th>\n",
       "      <th>FLAG_OWN_CAR</th>\n",
       "      <th>FLAG_OWN_REALTY</th>\n",
       "      <th>CNT_CHILDREN</th>\n",
       "      <th>AMT_INCOME_TOTAL</th>\n",
       "      <th>NAME_INCOME_TYPE</th>\n",
       "      <th>NAME_EDUCATION_TYPE</th>\n",
       "      <th>NAME_FAMILY_STATUS</th>\n",
       "      <th>NAME_HOUSING_TYPE</th>\n",
       "      <th>DAYS_BIRTH</th>\n",
       "      <th>DAYS_EMPLOYED</th>\n",
       "      <th>FLAG_MOBIL</th>\n",
       "      <th>FLAG_WORK_PHONE</th>\n",
       "      <th>FLAG_PHONE</th>\n",
       "      <th>FLAG_EMAIL</th>\n",
       "      <th>OCCUPATION_TYPE</th>\n",
       "      <th>CNT_FAM_MEMBERS</th>\n",
       "      <th>MONTHS_BALANCE</th>\n",
       "      <th>STATUS</th>\n",
       "    </tr>\n",
       "  </thead>\n",
       "  <tbody>\n",
       "    <tr>\n",
       "      <th>0</th>\n",
       "      <td>5008804</td>\n",
       "      <td>M</td>\n",
       "      <td>Y</td>\n",
       "      <td>Y</td>\n",
       "      <td>0.0</td>\n",
       "      <td>427500.0</td>\n",
       "      <td>Working</td>\n",
       "      <td>Higher education</td>\n",
       "      <td>Civil marriage</td>\n",
       "      <td>Rented apartment</td>\n",
       "      <td>-12005.0</td>\n",
       "      <td>-4542.0</td>\n",
       "      <td>1.0</td>\n",
       "      <td>1.0</td>\n",
       "      <td>0.0</td>\n",
       "      <td>0.0</td>\n",
       "      <td>NaN</td>\n",
       "      <td>2.0</td>\n",
       "      <td>0.0</td>\n",
       "      <td>1.0</td>\n",
       "    </tr>\n",
       "    <tr>\n",
       "      <th>1</th>\n",
       "      <td>5008804</td>\n",
       "      <td>M</td>\n",
       "      <td>Y</td>\n",
       "      <td>Y</td>\n",
       "      <td>0.0</td>\n",
       "      <td>427500.0</td>\n",
       "      <td>Working</td>\n",
       "      <td>Higher education</td>\n",
       "      <td>Civil marriage</td>\n",
       "      <td>Rented apartment</td>\n",
       "      <td>-12005.0</td>\n",
       "      <td>-4542.0</td>\n",
       "      <td>1.0</td>\n",
       "      <td>1.0</td>\n",
       "      <td>0.0</td>\n",
       "      <td>0.0</td>\n",
       "      <td>NaN</td>\n",
       "      <td>2.0</td>\n",
       "      <td>-1.0</td>\n",
       "      <td>1.0</td>\n",
       "    </tr>\n",
       "    <tr>\n",
       "      <th>2</th>\n",
       "      <td>5008804</td>\n",
       "      <td>M</td>\n",
       "      <td>Y</td>\n",
       "      <td>Y</td>\n",
       "      <td>0.0</td>\n",
       "      <td>427500.0</td>\n",
       "      <td>Working</td>\n",
       "      <td>Higher education</td>\n",
       "      <td>Civil marriage</td>\n",
       "      <td>Rented apartment</td>\n",
       "      <td>-12005.0</td>\n",
       "      <td>-4542.0</td>\n",
       "      <td>1.0</td>\n",
       "      <td>1.0</td>\n",
       "      <td>0.0</td>\n",
       "      <td>0.0</td>\n",
       "      <td>NaN</td>\n",
       "      <td>2.0</td>\n",
       "      <td>-2.0</td>\n",
       "      <td>1.0</td>\n",
       "    </tr>\n",
       "    <tr>\n",
       "      <th>3</th>\n",
       "      <td>5008804</td>\n",
       "      <td>M</td>\n",
       "      <td>Y</td>\n",
       "      <td>Y</td>\n",
       "      <td>0.0</td>\n",
       "      <td>427500.0</td>\n",
       "      <td>Working</td>\n",
       "      <td>Higher education</td>\n",
       "      <td>Civil marriage</td>\n",
       "      <td>Rented apartment</td>\n",
       "      <td>-12005.0</td>\n",
       "      <td>-4542.0</td>\n",
       "      <td>1.0</td>\n",
       "      <td>1.0</td>\n",
       "      <td>0.0</td>\n",
       "      <td>0.0</td>\n",
       "      <td>NaN</td>\n",
       "      <td>2.0</td>\n",
       "      <td>-3.0</td>\n",
       "      <td>1.0</td>\n",
       "    </tr>\n",
       "    <tr>\n",
       "      <th>4</th>\n",
       "      <td>5008804</td>\n",
       "      <td>M</td>\n",
       "      <td>Y</td>\n",
       "      <td>Y</td>\n",
       "      <td>0.0</td>\n",
       "      <td>427500.0</td>\n",
       "      <td>Working</td>\n",
       "      <td>Higher education</td>\n",
       "      <td>Civil marriage</td>\n",
       "      <td>Rented apartment</td>\n",
       "      <td>-12005.0</td>\n",
       "      <td>-4542.0</td>\n",
       "      <td>1.0</td>\n",
       "      <td>1.0</td>\n",
       "      <td>0.0</td>\n",
       "      <td>0.0</td>\n",
       "      <td>NaN</td>\n",
       "      <td>2.0</td>\n",
       "      <td>-4.0</td>\n",
       "      <td>1.0</td>\n",
       "    </tr>\n",
       "  </tbody>\n",
       "</table>\n",
       "</div>"
      ],
      "text/plain": [
       "        ID CODE_GENDER FLAG_OWN_CAR FLAG_OWN_REALTY  CNT_CHILDREN  \\\n",
       "0  5008804           M            Y               Y           0.0   \n",
       "1  5008804           M            Y               Y           0.0   \n",
       "2  5008804           M            Y               Y           0.0   \n",
       "3  5008804           M            Y               Y           0.0   \n",
       "4  5008804           M            Y               Y           0.0   \n",
       "\n",
       "   AMT_INCOME_TOTAL NAME_INCOME_TYPE NAME_EDUCATION_TYPE NAME_FAMILY_STATUS  \\\n",
       "0          427500.0          Working    Higher education     Civil marriage   \n",
       "1          427500.0          Working    Higher education     Civil marriage   \n",
       "2          427500.0          Working    Higher education     Civil marriage   \n",
       "3          427500.0          Working    Higher education     Civil marriage   \n",
       "4          427500.0          Working    Higher education     Civil marriage   \n",
       "\n",
       "  NAME_HOUSING_TYPE  DAYS_BIRTH  DAYS_EMPLOYED  FLAG_MOBIL  FLAG_WORK_PHONE  \\\n",
       "0  Rented apartment    -12005.0        -4542.0         1.0              1.0   \n",
       "1  Rented apartment    -12005.0        -4542.0         1.0              1.0   \n",
       "2  Rented apartment    -12005.0        -4542.0         1.0              1.0   \n",
       "3  Rented apartment    -12005.0        -4542.0         1.0              1.0   \n",
       "4  Rented apartment    -12005.0        -4542.0         1.0              1.0   \n",
       "\n",
       "   FLAG_PHONE  FLAG_EMAIL OCCUPATION_TYPE  CNT_FAM_MEMBERS  MONTHS_BALANCE  \\\n",
       "0         0.0         0.0             NaN              2.0             0.0   \n",
       "1         0.0         0.0             NaN              2.0            -1.0   \n",
       "2         0.0         0.0             NaN              2.0            -2.0   \n",
       "3         0.0         0.0             NaN              2.0            -3.0   \n",
       "4         0.0         0.0             NaN              2.0            -4.0   \n",
       "\n",
       "   STATUS  \n",
       "0     1.0  \n",
       "1     1.0  \n",
       "2     1.0  \n",
       "3     1.0  \n",
       "4     1.0  "
      ]
     },
     "execution_count": 37,
     "metadata": {},
     "output_type": "execute_result"
    }
   ],
   "source": [
    "# Define a function to map the status values to the 3 categories\n",
    "def map_status(STATUS):\n",
    "    if STATUS in ['0', '1', '2', '3', '4', '5']:\n",
    "        return 0 # Deny\n",
    "    elif STATUS in ['C', 'X']:\n",
    "        return 1 # Approve\n",
    "    else:\n",
    "        return np.nan\n",
    "\n",
    "# Replace the status column with the mapped values\n",
    "df[\"STATUS\"] = df[\"STATUS\"].apply(map_status)\n",
    "\n",
    "df.head()"
   ]
  },
  {
   "cell_type": "code",
   "execution_count": 83,
   "id": "82405f77-878c-4002-a226-1a719059f573",
   "metadata": {},
   "outputs": [
    {
     "name": "stdout",
     "output_type": "stream",
     "text": [
      "Target Feature: \n",
      " STATUS\n",
      "\n",
      "All Features: \n",
      " ['CODE_GENDER', 'FLAG_OWN_CAR', 'FLAG_OWN_REALTY', 'CNT_CHILDREN', 'AMT_INCOME_TOTAL', 'NAME_INCOME_TYPE', 'NAME_EDUCATION_TYPE', 'NAME_FAMILY_STATUS', 'NAME_HOUSING_TYPE', 'DAYS_BIRTH', 'DAYS_EMPLOYED', 'FLAG_MOBIL', 'FLAG_WORK_PHONE', 'FLAG_PHONE', 'FLAG_EMAIL', 'CNT_FAM_MEMBERS', 'MONTHS_BALANCE', 'STATUS']\n",
      "\n",
      "Numeric Features: \n",
      " ['CNT_CHILDREN', 'AMT_INCOME_TOTAL', 'DAYS_BIRTH', 'DAYS_EMPLOYED', 'CNT_FAM_MEMBERS', 'MONTHS_BALANCE', 'STATUS']\n",
      "\n",
      "Categorical Features: \n",
      " ['CODE_GENDER', 'FLAG_OWN_CAR', 'FLAG_OWN_REALTY', 'NAME_INCOME_TYPE', 'NAME_EDUCATION_TYPE', 'NAME_FAMILY_STATUS', 'NAME_HOUSING_TYPE', 'FLAG_MOBIL', 'FLAG_WORK_PHONE', 'FLAG_PHONE', 'FLAG_EMAIL']\n",
      "\n",
      "Continuous Numeric Features: \n",
      " ['AMT_INCOME_TOTAL', 'DAYS_BIRTH', 'DAYS_EMPLOYED']\n",
      "\n",
      "Binary Features: \n",
      " ['CODE_GENDER', 'FLAG_OWN_CAR', 'FLAG_OWN_REALTY', 'FLAG_MOBIL', 'FLAG_WORK_PHONE', 'FLAG_PHONE', 'FLAG_EMAIL']\n",
      "\n",
      "Ordinal Features: \n",
      " []\n",
      "\n",
      "Nominal Features:  ['NAME_INCOME_TYPE', 'NAME_EDUCATION_TYPE', 'NAME_FAMILY_STATUS', 'NAME_HOUSING_TYPE']\n",
      "\n",
      "High cardinality features:  []\n",
      "\n"
     ]
    }
   ],
   "source": [
    "# -----TARGET SELECTION-----\n",
    "# Output Feature\n",
    "target_feature = \"STATUS\"\n",
    "print(\"Target Feature: \\n\", target_feature)\n",
    "print()\n",
    "# -----INPUT FEATURE RECOGNITION-----\n",
    "# -----all features-----\n",
    "all_features = df.columns.to_list()\n",
    "print('All Features: \\n', all_features)\n",
    "print()\n",
    "# -----numeric features-----\n",
    "numeric_features = [feature for feature in df.columns if df[feature].dtype != 'object' and df[feature].dtype !='datetime64[ns]']\n",
    "print('Numeric Features: \\n', numeric_features)\n",
    "print()\n",
    "# -----categorical features-----\n",
    "categorical_features = [feature for feature in df.columns if df[feature].dtype == 'object']\n",
    "print('Categorical Features: \\n', categorical_features)\n",
    "print()\n",
    "# -----contionus numieric features-----\n",
    "continuous_numeric_features = ['AMT_INCOME_TOTAL', 'DAYS_BIRTH', 'DAYS_EMPLOYED']\n",
    "print('Continuous Numeric Features: \\n', continuous_numeric_features)\n",
    "print()\n",
    "# -----binary features-----\n",
    "binary_features = ['CODE_GENDER', 'FLAG_OWN_CAR', 'FLAG_OWN_REALTY', 'FLAG_MOBIL', \n",
    "                   'FLAG_WORK_PHONE', 'FLAG_PHONE', 'FLAG_EMAIL']\n",
    "df[binary_features] = df[binary_features].astype('object')\n",
    "print('Binary Features: \\n', binary_features)\n",
    "print()\n",
    "# -----ordinal features-----\n",
    "ordinal_features = []\n",
    "print('Ordinal Features: \\n', ordinal_features)\n",
    "print()\n",
    "# -----nominal features-----\n",
    "nominal_features = ['NAME_INCOME_TYPE', 'NAME_EDUCATION_TYPE', 'NAME_FAMILY_STATUS', 'NAME_HOUSING_TYPE']\n",
    "print('Nominal Features: ', nominal_features)\n",
    "print()\n",
    "# -----high cardinality features-----\n",
    "\n",
    "# Set the threshold for high cardinality\n",
    "threshold = 7\n",
    "\n",
    "# Calculate the number of unique values in each column\n",
    "cardinality = df[categorical_features].nunique()\n",
    "\n",
    "# Select the columns where the number of unique values is greater than the threshold\n",
    "high_cardinality_features = cardinality[cardinality > threshold].index.tolist()\n",
    "print('High cardinality features: ', high_cardinality_features)\n",
    "print()"
   ]
  },
  {
   "cell_type": "code",
   "execution_count": 39,
   "id": "a9ec7f6f-1232-432a-b1fe-01cc1f55c3d0",
   "metadata": {},
   "outputs": [
    {
     "name": "stdout",
     "output_type": "stream",
     "text": [
      "The shape of the df : (1450675, 20)\n",
      "\n",
      "The missing values in the df :\n",
      "ID                          0\n",
      "CODE_GENDER            270860\n",
      "FLAG_OWN_CAR           270860\n",
      "FLAG_OWN_REALTY        270860\n",
      "CNT_CHILDREN           270860\n",
      "AMT_INCOME_TOTAL       270860\n",
      "NAME_INCOME_TYPE       270860\n",
      "NAME_EDUCATION_TYPE    270860\n",
      "NAME_FAMILY_STATUS     270860\n",
      "NAME_HOUSING_TYPE      270860\n",
      "DAYS_BIRTH             270860\n",
      "DAYS_EMPLOYED          270860\n",
      "FLAG_MOBIL             270860\n",
      "FLAG_WORK_PHONE        270860\n",
      "FLAG_PHONE             270860\n",
      "FLAG_EMAIL             270860\n",
      "OCCUPATION_TYPE        633788\n",
      "CNT_FAM_MEMBERS        270860\n",
      "MONTHS_BALANCE         402100\n",
      "STATUS                 402100\n",
      "dtype: int64\n"
     ]
    }
   ],
   "source": [
    "# print the shape of the df\n",
    "print(\"The shape of the df :\", df.shape)\n",
    "print()\n",
    "# find missing values by column\n",
    "print(\"The missing values in the df :\")\n",
    "print(df.isnull().sum())"
   ]
  },
  {
   "cell_type": "code",
   "execution_count": 40,
   "id": "55b3ed78-6f17-4d5e-9fee-366f0a559998",
   "metadata": {},
   "outputs": [
    {
     "name": "stdout",
     "output_type": "stream",
     "text": [
      "The shape of the cleaned df : (777715, 18)\n",
      "\n"
     ]
    }
   ],
   "source": [
    "# remove rows with missing values for the specified columns\n",
    "df = df.dropna(subset= ['STATUS', 'CODE_GENDER'])\n",
    "\n",
    "# remove Occupation Type column because it has many missing values\n",
    "df = df.drop(columns = ['OCCUPATION_TYPE'])\n",
    "\n",
    "# remove ID as it is not useful for credit card approval prediction for new customers\n",
    "df = df.drop(columns = ['ID'])\n",
    "\n",
    "# print the shape of the df\n",
    "print(\"The shape of the cleaned df :\", df.shape)\n",
    "print()"
   ]
  },
  {
   "cell_type": "code",
   "execution_count": 41,
   "id": "6231f072-1b3e-4d92-9595-52784acd18c6",
   "metadata": {},
   "outputs": [
    {
     "name": "stdout",
     "output_type": "stream",
     "text": [
      "CODE_GENDER            0\n",
      "FLAG_OWN_CAR           0\n",
      "FLAG_OWN_REALTY        0\n",
      "CNT_CHILDREN           0\n",
      "AMT_INCOME_TOTAL       0\n",
      "NAME_INCOME_TYPE       0\n",
      "NAME_EDUCATION_TYPE    0\n",
      "NAME_FAMILY_STATUS     0\n",
      "NAME_HOUSING_TYPE      0\n",
      "DAYS_BIRTH             0\n",
      "DAYS_EMPLOYED          0\n",
      "FLAG_MOBIL             0\n",
      "FLAG_WORK_PHONE        0\n",
      "FLAG_PHONE             0\n",
      "FLAG_EMAIL             0\n",
      "CNT_FAM_MEMBERS        0\n",
      "MONTHS_BALANCE         0\n",
      "STATUS                 0\n",
      "dtype: int64\n"
     ]
    }
   ],
   "source": [
    "print(df.isnull().sum())"
   ]
  },
  {
   "cell_type": "code",
   "execution_count": 42,
   "id": "181e43fb-5d09-4f77-8580-33cfd4611f28",
   "metadata": {},
   "outputs": [
    {
     "data": {
      "text/html": [
       "<div>\n",
       "<style scoped>\n",
       "    .dataframe tbody tr th:only-of-type {\n",
       "        vertical-align: middle;\n",
       "    }\n",
       "\n",
       "    .dataframe tbody tr th {\n",
       "        vertical-align: top;\n",
       "    }\n",
       "\n",
       "    .dataframe thead th {\n",
       "        text-align: right;\n",
       "    }\n",
       "</style>\n",
       "<table border=\"1\" class=\"dataframe\">\n",
       "  <thead>\n",
       "    <tr style=\"text-align: right;\">\n",
       "      <th></th>\n",
       "      <th>CODE_GENDER</th>\n",
       "      <th>FLAG_OWN_CAR</th>\n",
       "      <th>FLAG_OWN_REALTY</th>\n",
       "      <th>CNT_CHILDREN</th>\n",
       "      <th>AMT_INCOME_TOTAL</th>\n",
       "      <th>NAME_INCOME_TYPE</th>\n",
       "      <th>NAME_EDUCATION_TYPE</th>\n",
       "      <th>NAME_FAMILY_STATUS</th>\n",
       "      <th>NAME_HOUSING_TYPE</th>\n",
       "      <th>DAYS_BIRTH</th>\n",
       "      <th>DAYS_EMPLOYED</th>\n",
       "      <th>FLAG_MOBIL</th>\n",
       "      <th>FLAG_WORK_PHONE</th>\n",
       "      <th>FLAG_PHONE</th>\n",
       "      <th>FLAG_EMAIL</th>\n",
       "      <th>CNT_FAM_MEMBERS</th>\n",
       "      <th>MONTHS_BALANCE</th>\n",
       "      <th>STATUS</th>\n",
       "    </tr>\n",
       "  </thead>\n",
       "  <tbody>\n",
       "    <tr>\n",
       "      <th>0</th>\n",
       "      <td>M</td>\n",
       "      <td>Y</td>\n",
       "      <td>Y</td>\n",
       "      <td>0.0</td>\n",
       "      <td>427500.0</td>\n",
       "      <td>Working</td>\n",
       "      <td>Higher education</td>\n",
       "      <td>Civil marriage</td>\n",
       "      <td>Rented apartment</td>\n",
       "      <td>-12005.0</td>\n",
       "      <td>-4542.0</td>\n",
       "      <td>1.0</td>\n",
       "      <td>1.0</td>\n",
       "      <td>0.0</td>\n",
       "      <td>0.0</td>\n",
       "      <td>2.0</td>\n",
       "      <td>0.0</td>\n",
       "      <td>1.0</td>\n",
       "    </tr>\n",
       "    <tr>\n",
       "      <th>1</th>\n",
       "      <td>M</td>\n",
       "      <td>Y</td>\n",
       "      <td>Y</td>\n",
       "      <td>0.0</td>\n",
       "      <td>427500.0</td>\n",
       "      <td>Working</td>\n",
       "      <td>Higher education</td>\n",
       "      <td>Civil marriage</td>\n",
       "      <td>Rented apartment</td>\n",
       "      <td>-12005.0</td>\n",
       "      <td>-4542.0</td>\n",
       "      <td>1.0</td>\n",
       "      <td>1.0</td>\n",
       "      <td>0.0</td>\n",
       "      <td>0.0</td>\n",
       "      <td>2.0</td>\n",
       "      <td>-1.0</td>\n",
       "      <td>1.0</td>\n",
       "    </tr>\n",
       "    <tr>\n",
       "      <th>2</th>\n",
       "      <td>M</td>\n",
       "      <td>Y</td>\n",
       "      <td>Y</td>\n",
       "      <td>0.0</td>\n",
       "      <td>427500.0</td>\n",
       "      <td>Working</td>\n",
       "      <td>Higher education</td>\n",
       "      <td>Civil marriage</td>\n",
       "      <td>Rented apartment</td>\n",
       "      <td>-12005.0</td>\n",
       "      <td>-4542.0</td>\n",
       "      <td>1.0</td>\n",
       "      <td>1.0</td>\n",
       "      <td>0.0</td>\n",
       "      <td>0.0</td>\n",
       "      <td>2.0</td>\n",
       "      <td>-2.0</td>\n",
       "      <td>1.0</td>\n",
       "    </tr>\n",
       "    <tr>\n",
       "      <th>3</th>\n",
       "      <td>M</td>\n",
       "      <td>Y</td>\n",
       "      <td>Y</td>\n",
       "      <td>0.0</td>\n",
       "      <td>427500.0</td>\n",
       "      <td>Working</td>\n",
       "      <td>Higher education</td>\n",
       "      <td>Civil marriage</td>\n",
       "      <td>Rented apartment</td>\n",
       "      <td>-12005.0</td>\n",
       "      <td>-4542.0</td>\n",
       "      <td>1.0</td>\n",
       "      <td>1.0</td>\n",
       "      <td>0.0</td>\n",
       "      <td>0.0</td>\n",
       "      <td>2.0</td>\n",
       "      <td>-3.0</td>\n",
       "      <td>1.0</td>\n",
       "    </tr>\n",
       "    <tr>\n",
       "      <th>4</th>\n",
       "      <td>M</td>\n",
       "      <td>Y</td>\n",
       "      <td>Y</td>\n",
       "      <td>0.0</td>\n",
       "      <td>427500.0</td>\n",
       "      <td>Working</td>\n",
       "      <td>Higher education</td>\n",
       "      <td>Civil marriage</td>\n",
       "      <td>Rented apartment</td>\n",
       "      <td>-12005.0</td>\n",
       "      <td>-4542.0</td>\n",
       "      <td>1.0</td>\n",
       "      <td>1.0</td>\n",
       "      <td>0.0</td>\n",
       "      <td>0.0</td>\n",
       "      <td>2.0</td>\n",
       "      <td>-4.0</td>\n",
       "      <td>1.0</td>\n",
       "    </tr>\n",
       "  </tbody>\n",
       "</table>\n",
       "</div>"
      ],
      "text/plain": [
       "  CODE_GENDER FLAG_OWN_CAR FLAG_OWN_REALTY  CNT_CHILDREN  AMT_INCOME_TOTAL  \\\n",
       "0           M            Y               Y           0.0          427500.0   \n",
       "1           M            Y               Y           0.0          427500.0   \n",
       "2           M            Y               Y           0.0          427500.0   \n",
       "3           M            Y               Y           0.0          427500.0   \n",
       "4           M            Y               Y           0.0          427500.0   \n",
       "\n",
       "  NAME_INCOME_TYPE NAME_EDUCATION_TYPE NAME_FAMILY_STATUS NAME_HOUSING_TYPE  \\\n",
       "0          Working    Higher education     Civil marriage  Rented apartment   \n",
       "1          Working    Higher education     Civil marriage  Rented apartment   \n",
       "2          Working    Higher education     Civil marriage  Rented apartment   \n",
       "3          Working    Higher education     Civil marriage  Rented apartment   \n",
       "4          Working    Higher education     Civil marriage  Rented apartment   \n",
       "\n",
       "   DAYS_BIRTH  DAYS_EMPLOYED FLAG_MOBIL FLAG_WORK_PHONE FLAG_PHONE FLAG_EMAIL  \\\n",
       "0    -12005.0        -4542.0        1.0             1.0        0.0        0.0   \n",
       "1    -12005.0        -4542.0        1.0             1.0        0.0        0.0   \n",
       "2    -12005.0        -4542.0        1.0             1.0        0.0        0.0   \n",
       "3    -12005.0        -4542.0        1.0             1.0        0.0        0.0   \n",
       "4    -12005.0        -4542.0        1.0             1.0        0.0        0.0   \n",
       "\n",
       "   CNT_FAM_MEMBERS  MONTHS_BALANCE  STATUS  \n",
       "0              2.0             0.0     1.0  \n",
       "1              2.0            -1.0     1.0  \n",
       "2              2.0            -2.0     1.0  \n",
       "3              2.0            -3.0     1.0  \n",
       "4              2.0            -4.0     1.0  "
      ]
     },
     "execution_count": 42,
     "metadata": {},
     "output_type": "execute_result"
    }
   ],
   "source": [
    "df.head()"
   ]
  },
  {
   "cell_type": "markdown",
   "id": "4e444efc-4d6b-49db-bcf9-a9d1b2cf87d4",
   "metadata": {},
   "source": [
    "# EDA"
   ]
  },
  {
   "cell_type": "code",
   "execution_count": 43,
   "id": "6c923a1f-4cdf-48e3-ae4a-b909120f9f65",
   "metadata": {},
   "outputs": [],
   "source": [
    "import seaborn as sns"
   ]
  },
  {
   "cell_type": "code",
   "execution_count": 44,
   "id": "851d9c01-d2c1-4b0c-8587-cad5e369b4ee",
   "metadata": {},
   "outputs": [
    {
     "data": {
      "text/plain": [
       "<Axes: xlabel='FLAG_EMAIL', ylabel='Count'>"
      ]
     },
     "execution_count": 44,
     "metadata": {},
     "output_type": "execute_result"
    },
    {
     "data": {
      "image/png": "[encoded data removed]",
      "text/plain": [
       "<Figure size 640x480 with 1 Axes>"
      ]
     },
     "metadata": {},
     "output_type": "display_data"
    }
   ],
   "source": [
    "sns.histplot(data=df,x='FLAG_EMAIL',hue='STATUS')"
   ]
  },
  {
   "cell_type": "code",
   "execution_count": 45,
   "id": "79c31e68-e849-4908-b6fc-653df829b09f",
   "metadata": {},
   "outputs": [
    {
     "data": {
      "text/plain": [
       "<Axes: xlabel='CODE_GENDER', ylabel='Count'>"
      ]
     },
     "execution_count": 45,
     "metadata": {},
     "output_type": "execute_result"
    },
    {
     "data": {
      "image/png": "[encoded data removed]",
      "text/plain": [
       "<Figure size 640x480 with 1 Axes>"
      ]
     },
     "metadata": {},
     "output_type": "display_data"
    }
   ],
   "source": [
    "sns.histplot(data=df,x='CODE_GENDER',hue='STATUS')"
   ]
  },
  {
   "cell_type": "code",
   "execution_count": 46,
   "id": "025d1556-9fbb-42c5-a7d2-0ad7b140864e",
   "metadata": {},
   "outputs": [
    {
     "data": {
      "text/plain": [
       "<Axes: xlabel='FLAG_OWN_CAR', ylabel='Count'>"
      ]
     },
     "execution_count": 46,
     "metadata": {},
     "output_type": "execute_result"
    },
    {
     "data": {
      "image/png": "[encoded data removed]",
      "text/plain": [
       "<Figure size 640x480 with 1 Axes>"
      ]
     },
     "metadata": {},
     "output_type": "display_data"
    }
   ],
   "source": [
    "sns.histplot(data=df,x='FLAG_OWN_CAR',hue='STATUS')"
   ]
  },
  {
   "cell_type": "code",
   "execution_count": 47,
   "id": "dd3467ca-09b8-4453-be9a-4be7c9489479",
   "metadata": {},
   "outputs": [
    {
     "data": {
      "image/png": "[encoded data removed]",
      "text/plain": [
       "<Figure size 640x480 with 1 Axes>"
      ]
     },
     "metadata": {},
     "output_type": "display_data"
    }
   ],
   "source": [
    "import matplotlib.pyplot as plt\n",
    "sns.histplot(data=df, x='FLAG_OWN_REALTY', hue=target_feature, multiple=\"stack\")\n",
    "plt.show()"
   ]
  },
  {
   "cell_type": "code",
   "execution_count": 48,
   "id": "798846d4-fc3e-4c77-aebd-c1db529c7e40",
   "metadata": {},
   "outputs": [
    {
     "data": {
      "image/png": "[encoded data removed]",
      "text/plain": [
       "<Figure size 640x480 with 1 Axes>"
      ]
     },
     "metadata": {},
     "output_type": "display_data"
    }
   ],
   "source": [
    "df['STATUS'].value_counts().plot.pie(autopct='%1.1f%%', startangle=90)\n",
    "plt.title('Visualizing Data Imbalance in Target Feature')\n",
    "plt.ylabel('')\n",
    "plt.show()"
   ]
  },
  {
   "cell_type": "markdown",
   "id": "468a6291-a1a0-452f-a933-33b40026b550",
   "metadata": {},
   "source": [
    "## data splitting"
   ]
  },
  {
   "cell_type": "code",
   "execution_count": 49,
   "id": "8cf3532c-2528-4ed9-90ac-ecc44c2c30e8",
   "metadata": {},
   "outputs": [
    {
     "name": "stdout",
     "output_type": "stream",
     "text": [
      "Shape of X_train:  (622949, 15)\n",
      "Shape of y_train:  (622949,)\n",
      "Shape of X_val:  (76994, 15)\n",
      "Shape of y_val:  (76994,)\n",
      "Shape of X_test:  (77772, 15)\n",
      "Shape of y_test:  (77772,)\n",
      "\n",
      "Training set percentage: 80%\n",
      "Validation set percentage: 10%\n",
      "Test set percentage: 10%\n"
     ]
    }
   ],
   "source": [
    "# Assign input features (also for feature selection)\n",
    "X = df[['CODE_GENDER', 'FLAG_EMAIL', 'FLAG_MOBIL', 'FLAG_OWN_CAR', 'FLAG_OWN_REALTY', \n",
    "        'FLAG_PHONE', 'FLAG_WORK_PHONE', 'NAME_EDUCATION_TYPE', 'NAME_FAMILY_STATUS', 'NAME_HOUSING_TYPE', \n",
    "        'NAME_INCOME_TYPE', 'DAYS_BIRTH', 'DAYS_EMPLOYED', 'CNT_CHILDREN', 'CNT_FAM_MEMBERS']]\n",
    "\n",
    "# Assign Target Feature\n",
    "y = df[target_feature]\n",
    "\n",
    "\n",
    "# Perform stratified train_val-test split for input features\n",
    "X_train_val, X_test, y_train_val, y_test = train_test_split(X, y, test_size=0.10,  random_state=0)\n",
    "\n",
    "# Further split the training set into training and validation sets\n",
    "X_train, X_val, y_train, y_val = train_test_split(X_train_val, y_train_val, test_size=0.11,  random_state=0)\n",
    "\n",
    "\n",
    "# Print shapes of the datasets\n",
    "print('Shape of X_train: ', X_train.shape)\n",
    "print('Shape of y_train: ', y_train.shape)\n",
    "print('Shape of X_val: ', X_val.shape)\n",
    "print('Shape of y_val: ', y_val.shape)\n",
    "print('Shape of X_test: ', X_test.shape)\n",
    "print('Shape of y_test: ', y_test.shape)\n",
    "print()\n",
    "\n",
    "# Dataset Splitting Summary\n",
    "total_samples = X_train.shape[0] + X_val.shape[0] + X_test.shape[0]\n",
    "\n",
    "train_percent =  X_train.shape[0] / total_samples * 100\n",
    "val_percent = X_val.shape[0] / total_samples * 100\n",
    "test_percent = X_test.shape[0] / total_samples * 100\n",
    "\n",
    "print(f\"Training set percentage: {train_percent:.0f}%\")\n",
    "print(f\"Validation set percentage: {val_percent:.0f}%\")\n",
    "print(f\"Test set percentage: {test_percent:.0f}%\")"
   ]
  },
  {
   "cell_type": "raw",
   "id": "7b371031-333e-4641-83b4-36b476416447",
   "metadata": {},
   "source": [
    "Feature engineering is crucial for machine learning modeling. In my approach, I utilized different encoding techniques such as count encoder for high cardinality features, binary encoder for binary features, and one hot encoder for nominal features to preprocess the features for improved model performance."
   ]
  },
  {
   "cell_type": "code",
   "execution_count": 84,
   "id": "55e9206c-22fc-401e-9866-2d240eef9ff3",
   "metadata": {},
   "outputs": [
    {
     "name": "stdout",
     "output_type": "stream",
     "text": [
      "Note: High cardinality features Unavailable!\n"
     ]
    }
   ],
   "source": [
    "# Create an instance of CountEncoder \n",
    "c_encoder = ce.CountEncoder()\n",
    "\n",
    "# get updated high cardinality feature names\n",
    "high_cardinality_features = np.intersect1d(high_cardinality_features, X_train.columns)\n",
    "\n",
    "# check if high_cardinality_features are available then apply count encoder to X_train, X_val, and X_test\n",
    "if high_cardinality_features.size == 0:\n",
    "    print('Note: High cardinality features Unavailable!')\n",
    "    X_train_c_encoded, X_val_c_encoded, X_test_c_encoded = pd.DataFrame(), pd.DataFrame(), pd.DataFrame()\n",
    "else:\n",
    "    # fit_transform object on train set and transform on test set\n",
    "    X_train_c_encoded, X_val_c_encoded, X_test_c_encoded = c_encoder.fit_transform(X_train[high_cardinality_features]), c_encoder.transform(X_val[high_cardinality_features]), c_encoder.transform(X_test[high_cardinality_features])"
   ]
  },
  {
   "cell_type": "code",
   "execution_count": 85,
   "id": "cbf485a4-b67a-423f-b66a-6a0c2a457867",
   "metadata": {},
   "outputs": [],
   "source": [
    "# Create an instance of BinaryEncoder\n",
    "b_encoder = BinaryEncoder()\n",
    "\n",
    "# get updated binary feature names\n",
    "binary_features = np.intersect1d(binary_features, X_train.columns)\n",
    "\n",
    "# check if binary_features are available then apply binary encoder to X_train, X_val, and X_test\n",
    "if binary_features.size == 0:\n",
    "    print('Note: Binary features Unavailable!')\n",
    "    X_train_b_encoded, X_val_b_encoded, X_test_b_encoded = pd.DataFrame(), pd.DataFrame(), pd.DataFrame()\n",
    "else:\n",
    "    # fit_transform object on train set and transform on test set\n",
    "    X_train_b_encoded, X_val_b_encoded, X_test_b_encoded = b_encoder.fit_transform(X_train[binary_features]), b_encoder.transform(X_val[binary_features]), b_encoder.transform(X_test[binary_features])"
   ]
  },
  {
   "cell_type": "code",
   "execution_count": 90,
   "id": "740b4556-289c-48a7-8604-13ef68153b97",
   "metadata": {},
   "outputs": [
    {
     "data": {
      "text/plain": [
       "array(['CODE_GENDER', 'FLAG_EMAIL', 'FLAG_MOBIL', 'FLAG_OWN_CAR',\n",
       "       'FLAG_OWN_REALTY', 'FLAG_PHONE', 'FLAG_WORK_PHONE'], dtype=object)"
      ]
     },
     "execution_count": 90,
     "metadata": {},
     "output_type": "execute_result"
    }
   ],
   "source": [
    "binary_features"
   ]
  },
  {
   "cell_type": "code",
   "execution_count": 87,
   "id": "17326a41-1661-4e30-88cb-89d6b95d85af",
   "metadata": {},
   "outputs": [],
   "source": [
    "# Create an instance of OneHotEncoder\n",
    "encoder = OneHotEncoder(handle_unknown = 'ignore')\n",
    "\n",
    "# get updated nominal feature names\n",
    "nominal_features = np.intersect1d(nominal_features, X_train.columns)\n",
    "\n",
    "# check if nominal_features are available then apply one hot encoder to X_train, X_val, and X_test\n",
    "if nominal_features.size == 0:\n",
    "    print('Note: Nominal features Unavailable!')\n",
    "    X_train_o_encoded, X_val_o_encoded, X_test_o_encoded = pd.DataFrame(), pd.DataFrame(), pd.DataFrame()\n",
    "else:\n",
    "    # fit_transform object on train set and transform on test set\n",
    "    X_train_o_encoded, X_val_o_encoded, X_test_o_encoded = encoder.fit_transform(X_train[nominal_features]), encoder.transform(X_val[nominal_features]), encoder.transform(X_test[nominal_features])\n",
    "\n",
    "    # Get the names of the nominal columns\n",
    "    column_names = encoder.get_feature_names_out(nominal_features)\n",
    "\n",
    "    # convert X_train_encoded, X_val_encoded, X_test_encoded to dense numpy array\n",
    "    X_train_o_encoded, X_val_o_encoded, X_test_o_encoded = X_train_o_encoded.toarray(), X_val_o_encoded.toarray(), X_test_o_encoded.toarray()\n",
    "\n",
    "    # convert X_train_encoded, X_val_encoded, X_test_encoded dense numpy array to DataFrame\n",
    "    X_train_o_encoded, X_val_o_encoded, X_test_o_encoded = pd.DataFrame(X_train_o_encoded, columns=column_names), pd.DataFrame(X_val_o_encoded, columns=column_names), pd.DataFrame(X_test_o_encoded, columns=column_names)"
   ]
  },
  {
   "cell_type": "code",
   "execution_count": 91,
   "id": "020b52a0-e823-4131-834b-845f91c4fb0a",
   "metadata": {},
   "outputs": [
    {
     "data": {
      "text/plain": [
       "array(['NAME_EDUCATION_TYPE', 'NAME_FAMILY_STATUS', 'NAME_HOUSING_TYPE',\n",
       "       'NAME_INCOME_TYPE'], dtype=object)"
      ]
     },
     "execution_count": 91,
     "metadata": {},
     "output_type": "execute_result"
    }
   ],
   "source": [
    "nominal_features"
   ]
  },
  {
   "cell_type": "code",
   "execution_count": 76,
   "id": "b6080d3b-c89d-4c6e-9c7e-ee8d151fc536",
   "metadata": {},
   "outputs": [],
   "source": [
    "# Combine the encoded DataFrames\n",
    "\n",
    "# Reset the index of each DataFrame\n",
    "X_train_c_encoded, X_train_b_encoded, X_train_o_encoded = X_train_c_encoded.reset_index(drop=True), X_train_b_encoded.reset_index(drop=True), X_train_o_encoded.reset_index(drop=True)\n",
    "X_val_c_encoded, X_val_b_encoded, X_val_o_encoded = X_val_c_encoded.reset_index(drop=True), X_val_b_encoded.reset_index(drop=True), X_val_o_encoded.reset_index(drop=True)\n",
    "X_test_c_encoded, X_test_b_encoded, X_test_o_encoded = X_test_c_encoded.reset_index(drop=True), X_test_b_encoded.reset_index(drop=True), X_test_o_encoded.reset_index(drop=True)\n",
    "\n",
    "# Combine the encoded DataFrames using pd.concat\n",
    "X_train_encoded = pd.concat([X_train_c_encoded, X_train_b_encoded, X_train_o_encoded], axis=1)\n",
    "X_val_encoded = pd.concat([X_val_c_encoded, X_val_b_encoded, X_val_o_encoded], axis=1)\n",
    "X_test_encoded = pd.concat([X_test_c_encoded, X_test_b_encoded, X_test_o_encoded], axis=1)"
   ]
  },
  {
   "cell_type": "markdown",
   "id": "352a68e8-be67-4cad-8a8e-f6a2c446dba4",
   "metadata": {},
   "source": [
    "## feature scaling"
   ]
  },
  {
   "cell_type": "code",
   "execution_count": 92,
   "id": "34f86823-96b2-43d7-bd6e-7c40363fb6e5",
   "metadata": {},
   "outputs": [],
   "source": [
    "# Create an instance of StandardScaler\n",
    "scaler = StandardScaler(with_mean=False)\n",
    "\n",
    "# Convert column names to set\n",
    "all_features = set(X_train.columns)\n",
    "\n",
    "# Create sets of high cardinality, binary, and nominal features\n",
    "hc_features = set(high_cardinality_features)\n",
    "binary_features = set(binary_features)\n",
    "nominal_features = set(nominal_features)\n",
    "\n",
    "# Find the set of features that are not in any of the three sets\n",
    "numeric_features = all_features - hc_features - binary_features - nominal_features\n",
    "\n",
    "# convert numeric_features to list\n",
    "numeric_features = np.array(list(numeric_features))\n",
    "\n",
    "# check if nominal_features are available then apply scaler to X_train, X_val, and X_test\n",
    "if numeric_features.size == 0:\n",
    "    print('Numeric features Unavailable!')\n",
    "    X_train_scaled, X_val_scaled, X_test_scaled = pd.DataFrame(), pd.DataFrame(), pd.DataFrame()\n",
    "else:\n",
    "    # fit_transform object on train set and transform on test set\n",
    "    X_train_scaled, X_val_scaled, X_test_scaled = scaler.fit_transform(X_train[numeric_features]), scaler.transform(X_val[numeric_features]), scaler.transform(X_test[numeric_features])\n",
    "\n",
    "    # convert X_train_scaled, X_val_scaled, X_test_scaled numpy array to DataFrame\n",
    "    X_train_scaled, X_val_scaled, X_test_scaled = pd.DataFrame(X_train_scaled, columns=numeric_features), pd.DataFrame(X_val_scaled, columns=numeric_features), pd.DataFrame(X_test_scaled, columns=numeric_features)"
   ]
  },
  {
   "cell_type": "code",
   "execution_count": 93,
   "id": "9512887c-9090-4c7e-8fa7-17e644e36a04",
   "metadata": {},
   "outputs": [
    {
     "data": {
      "text/plain": [
       "array(['CNT_CHILDREN', 'CNT_FAM_MEMBERS', 'DAYS_BIRTH', 'DAYS_EMPLOYED'],\n",
       "      dtype='<U15')"
      ]
     },
     "execution_count": 93,
     "metadata": {},
     "output_type": "execute_result"
    }
   ],
   "source": [
    "numeric_features"
   ]
  },
  {
   "cell_type": "code",
   "execution_count": 78,
   "id": "d764faad-e7d9-4699-9e8f-ad8a94f15d93",
   "metadata": {},
   "outputs": [],
   "source": [
    "# update the scaled dataframe by concatenating with encoded dfs\n",
    "X_train_scaled = pd.concat([X_train_encoded, X_train_scaled], axis=1)\n",
    "X_val_scaled = pd.concat([X_val_encoded, X_val_scaled], axis=1)\n",
    "X_test_scaled = pd.concat([X_test_encoded, X_test_scaled], axis=1)"
   ]
  },
  {
   "cell_type": "markdown",
   "id": "0661521c-ac42-4ed0-93b8-69ce8632fe21",
   "metadata": {},
   "source": [
    "# Model Training"
   ]
  },
  {
   "cell_type": "code",
   "execution_count": 56,
   "id": "005e5c24-ab4b-4af6-89ff-3f216585af2f",
   "metadata": {},
   "outputs": [
    {
     "name": "stdout",
     "output_type": "stream",
     "text": [
      "lr:\n",
      "Best hyperparameters: {'C': 100.0, 'max_iter': 659, 'solver': 'lbfgs'}\n",
      "Best f1 score: 0.380\n",
      "\n",
      "rf:\n",
      "Best hyperparameters: {'n_estimators': 25, 'min_samples_split': 4, 'min_samples_leaf': 2, 'max_features': 'log2', 'max_depth': 35, 'bootstrap': True}\n",
      "Best f1 score: 0.677\n",
      "\n"
     ]
    }
   ],
   "source": [
    "# define the models and hyperparameter search spaces\n",
    "models = {\n",
    "    'lr': {\n",
    "        'model': LogisticRegression(random_state=0),\n",
    "        'param_distributions': {\n",
    "            # Regularization strength\n",
    "            'C': np.logspace(-10, 10, 21),\n",
    "            # Solver for optimization\n",
    "            'solver': ['newton-cg', 'lbfgs', 'liblinear', 'saga'],\n",
    "            # Maximum number of iterations\n",
    "            'max_iter': randint(100, 1000),\n",
    "        }\n",
    "    },\n",
    "    \n",
    "    'rf': {\n",
    "        'model': RandomForestClassifier(random_state=0),\n",
    "        'param_distributions': {\n",
    "                # number of estimators\n",
    "                'n_estimators': [25, 50],\n",
    "                # Regularization parameter\n",
    "                'max_features': ['sqrt', 'log2'],\n",
    "                # Regularization parameter    \n",
    "                'max_depth': [15, 25, 35, 50],\n",
    "                # Regularization parameter    \n",
    "                'min_samples_split': [2, 4, 8],\n",
    "                # Regularization parameter    \n",
    "                'min_samples_leaf': [2, 6, 8],\n",
    "                # bootstrap strategy\n",
    "                'bootstrap': [True, False]\n",
    "        }\n",
    "    }\n",
    "}\n",
    "\n",
    "\n",
    "# Define cross-validation method\n",
    "cv = KFold(n_splits=3)\n",
    "\n",
    "# Perform hyperparameter tuning on all models\n",
    "best_models = {}\n",
    "for name in models:\n",
    "    print(f'{name}:')\n",
    "    \n",
    "    # ignore all warnings\n",
    "    warnings.filterwarnings('ignore')\n",
    "    \n",
    "    # define the random search object\n",
    "    random_search = RandomizedSearchCV(\n",
    "        models[name]['model'],\n",
    "        param_distributions=models[name]['param_distributions'],\n",
    "        n_iter=3, \n",
    "        cv=cv,\n",
    "        scoring='f1_macro',\n",
    "        random_state=0)\n",
    "    \n",
    "    # perform hyperparameter tuning with random search\n",
    "    random_search.fit(X_train_scaled, y_train)\n",
    "    \n",
    "    # get the best model and its hyperparameters\n",
    "    best_model = random_search.best_estimator_\n",
    "    best_params = random_search.best_params_\n",
    "    \n",
    "    # store the best model in the dictionary\n",
    "    best_models[name] = {'model': best_model, 'params': best_params}\n",
    "\n",
    "    # print best hyperparameters and best score\n",
    "    print(f'Best hyperparameters: {random_search.best_params_}')\n",
    "    print(f'Best f1 score: {random_search.best_score_:.3f}')\n",
    "    print()"
   ]
  },
  {
   "cell_type": "code",
   "execution_count": 57,
   "id": "75249f3f-886f-4b34-9379-612afd9cd7cc",
   "metadata": {},
   "outputs": [
    {
     "name": "stdout",
     "output_type": "stream",
     "text": [
      "Best Model: RandomForestClassifier(max_depth=35, max_features='log2', min_samples_leaf=2,\n",
      "                       min_samples_split=4, n_estimators=25, random_state=0)\n"
     ]
    }
   ],
   "source": [
    "# get best model name and score\n",
    "best_model = best_models['rf']['model']\n",
    "\n",
    "print('Best Model:', best_model)"
   ]
  },
  {
   "cell_type": "code",
   "execution_count": 58,
   "id": "09541c1d-07bb-4d32-af10-e87cfa361eac",
   "metadata": {},
   "outputs": [
    {
     "name": "stdout",
     "output_type": "stream",
     "text": [
      "              precision    recall  f1-score   support\n",
      "\n",
      "         0.0       0.70      0.50      0.58    241981\n",
      "         1.0       0.73      0.87      0.79    380968\n",
      "\n",
      "    accuracy                           0.72    622949\n",
      "   macro avg       0.72      0.68      0.69    622949\n",
      "weighted avg       0.72      0.72      0.71    622949\n",
      "\n"
     ]
    }
   ],
   "source": [
    "# fit model on entire train set\n",
    "best_model.fit(X_train_scaled, y_train)\n",
    "\n",
    "# predict model on train set\n",
    "y_pred_train = best_model.predict(X_train_scaled)\n",
    "\n",
    "# Generate the classification report\n",
    "report = classification_report(y_train, y_pred_train)\n",
    "\n",
    "# Print the report\n",
    "print(report)"
   ]
  },
  {
   "cell_type": "code",
   "execution_count": 59,
   "id": "e0f9ebd1-9309-4974-9895-49b72e1b0896",
   "metadata": {},
   "outputs": [
    {
     "name": "stdout",
     "output_type": "stream",
     "text": [
      "              precision    recall  f1-score   support\n",
      "\n",
      "         0.0       0.69      0.49      0.57     29979\n",
      "         1.0       0.72      0.86      0.79     47015\n",
      "\n",
      "    accuracy                           0.71     76994\n",
      "   macro avg       0.71      0.67      0.68     76994\n",
      "weighted avg       0.71      0.71      0.70     76994\n",
      "\n"
     ]
    }
   ],
   "source": [
    "# predict model on train set\n",
    "y_pred_val = best_model.predict(X_val_scaled)\n",
    "\n",
    "# Generate the classification report\n",
    "report = classification_report(y_val, y_pred_val)\n",
    "\n",
    "# Print the report\n",
    "print(report)"
   ]
  },
  {
   "cell_type": "code",
   "execution_count": 60,
   "id": "eaa73dfb-d2e2-4b1d-b32c-273a1327498f",
   "metadata": {},
   "outputs": [
    {
     "data": {
      "application/vnd.plotly.v1+json": {
       "config": {
        "plotlyServerURL": "https://plot.ly"
       },
       "data": [
        {
         "type": "bar",
         "x": [
          "CODE_GENDER_0",
          "CODE_GENDER_1",
          "FLAG_EMAIL_0",
          "FLAG_EMAIL_1",
          "FLAG_MOBIL_0",
          "FLAG_OWN_CAR_0",
          "FLAG_OWN_CAR_1",
          "FLAG_OWN_REALTY_0",
          "FLAG_OWN_REALTY_1",
          "FLAG_PHONE_0",
          "FLAG_PHONE_1",
          "FLAG_WORK_PHONE_0",
          "FLAG_WORK_PHONE_1",
          "NAME_EDUCATION_TYPE_Academic degree",
          "NAME_EDUCATION_TYPE_Higher education",
          "NAME_EDUCATION_TYPE_Incomplete higher",
          "NAME_EDUCATION_TYPE_Lower secondary",
          "NAME_EDUCATION_TYPE_Secondary / secondary special",
          "NAME_FAMILY_STATUS_Civil marriage",
          "NAME_FAMILY_STATUS_Married",
          "NAME_FAMILY_STATUS_Separated",
          "NAME_FAMILY_STATUS_Single / not married",
          "NAME_FAMILY_STATUS_Widow",
          "NAME_HOUSING_TYPE_Co-op apartment",
          "NAME_HOUSING_TYPE_House / apartment",
          "NAME_HOUSING_TYPE_Municipal apartment",
          "NAME_HOUSING_TYPE_Office apartment",
          "NAME_HOUSING_TYPE_Rented apartment",
          "NAME_HOUSING_TYPE_With parents",
          "NAME_INCOME_TYPE_Commercial associate",
          "NAME_INCOME_TYPE_Pensioner",
          "NAME_INCOME_TYPE_State servant",
          "NAME_INCOME_TYPE_Student",
          "NAME_INCOME_TYPE_Working",
          "CNT_CHILDREN",
          "CNT_FAM_MEMBERS",
          "DAYS_BIRTH",
          "DAYS_EMPLOYED"
         ],
         "y": [
          0.39521246569768415,
          0.2621878815184677,
          0.03658051388136658,
          0.02999626211922638,
          0.01602897726086279,
          0.015808795530041102,
          0.014309334883620359,
          0.014029643164528515,
          0.013788299142413413,
          0.013786236169767796,
          0.012690645294057118,
          0.012297779702388253,
          0.011866449096290772,
          0.01161095389900917,
          0.0113699651319326,
          0.011236292079646819,
          0.010124730377490912,
          0.0100899146876969,
          0.009336849181688589,
          0.008975390863750002,
          0.008736765825556039,
          0.00814156602491507,
          0.006785802845242765,
          0.00668187338135586,
          0.006452494203077871,
          0.006129238347688037,
          0.005883274952052066,
          0.005680647322370791,
          0.0052223308411854475,
          0.004941530563999775,
          0.0038673287074300045,
          0.0033475011683975165,
          0.002193898802181793,
          0.001766850690951839,
          0.0017403108241060652,
          0.0006969524276575513,
          0.0004042533899014961,
          0
         ]
        }
       ],
       "layout": {
        "autosize": true,
        "template": {
         "data": {
          "bar": [
           {
            "error_x": {
             "color": "#2a3f5f"
            },
            "error_y": {
             "color": "#2a3f5f"
            },
            "marker": {
             "line": {
              "color": "#E5ECF6",
              "width": 0.5
             },
             "pattern": {
              "fillmode": "overlay",
              "size": 10,
              "solidity": 0.2
             }
            },
            "type": "bar"
           }
          ],
          "barpolar": [
           {
            "marker": {
             "line": {
              "color": "#E5ECF6",
              "width": 0.5
             },
             "pattern": {
              "fillmode": "overlay",
              "size": 10,
              "solidity": 0.2
             }
            },
            "type": "barpolar"
           }
          ],
          "carpet": [
           {
            "aaxis": {
             "endlinecolor": "#2a3f5f",
             "gridcolor": "white",
             "linecolor": "white",
             "minorgridcolor": "white",
             "startlinecolor": "#2a3f5f"
            },
            "baxis": {
             "endlinecolor": "#2a3f5f",
             "gridcolor": "white",
             "linecolor": "white",
             "minorgridcolor": "white",
             "startlinecolor": "#2a3f5f"
            },
            "type": "carpet"
           }
          ],
          "choropleth": [
           {
            "colorbar": {
             "outlinewidth": 0,
             "ticks": ""
            },
            "type": "choropleth"
           }
          ],
          "contour": [
           {
            "colorbar": {
             "outlinewidth": 0,
             "ticks": ""
            },
            "colorscale": [
             [
              0,
              "#0d0887"
             ],
             [
              0.1111111111111111,
              "#46039f"
             ],
             [
              0.2222222222222222,
              "#7201a8"
             ],
             [
              0.3333333333333333,
              "#9c179e"
             ],
             [
              0.4444444444444444,
              "#bd3786"
             ],
             [
              0.5555555555555556,
              "#d8576b"
             ],
             [
              0.6666666666666666,
              "#ed7953"
             ],
             [
              0.7777777777777778,
              "#fb9f3a"
             ],
             [
              0.8888888888888888,
              "#fdca26"
             ],
             [
              1,
              "#f0f921"
             ]
            ],
            "type": "contour"
           }
          ],
          "contourcarpet": [
           {
            "colorbar": {
             "outlinewidth": 0,
             "ticks": ""
            },
            "type": "contourcarpet"
           }
          ],
          "heatmap": [
           {
            "colorbar": {
             "outlinewidth": 0,
             "ticks": ""
            },
            "colorscale": [
             [
              0,
              "#0d0887"
             ],
             [
              0.1111111111111111,
              "#46039f"
             ],
             [
              0.2222222222222222,
              "#7201a8"
             ],
             [
              0.3333333333333333,
              "#9c179e"
             ],
             [
              0.4444444444444444,
              "#bd3786"
             ],
             [
              0.5555555555555556,
              "#d8576b"
             ],
             [
              0.6666666666666666,
              "#ed7953"
             ],
             [
              0.7777777777777778,
              "#fb9f3a"
             ],
             [
              0.8888888888888888,
              "#fdca26"
             ],
             [
              1,
              "#f0f921"
             ]
            ],
            "type": "heatmap"
           }
          ],
          "heatmapgl": [
           {
            "colorbar": {
             "outlinewidth": 0,
             "ticks": ""
            },
            "colorscale": [
             [
              0,
              "#0d0887"
             ],
             [
              0.1111111111111111,
              "#46039f"
             ],
             [
              0.2222222222222222,
              "#7201a8"
             ],
             [
              0.3333333333333333,
              "#9c179e"
             ],
             [
              0.4444444444444444,
              "#bd3786"
             ],
             [
              0.5555555555555556,
              "#d8576b"
             ],
             [
              0.6666666666666666,
              "#ed7953"
             ],
             [
              0.7777777777777778,
              "#fb9f3a"
             ],
             [
              0.8888888888888888,
              "#fdca26"
             ],
             [
              1,
              "#f0f921"
             ]
            ],
            "type": "heatmapgl"
           }
          ],
          "histogram": [
           {
            "marker": {
             "pattern": {
              "fillmode": "overlay",
              "size": 10,
              "solidity": 0.2
             }
            },
            "type": "histogram"
           }
          ],
          "histogram2d": [
           {
            "colorbar": {
             "outlinewidth": 0,
             "ticks": ""
            },
            "colorscale": [
             [
              0,
              "#0d0887"
             ],
             [
              0.1111111111111111,
              "#46039f"
             ],
             [
              0.2222222222222222,
              "#7201a8"
             ],
             [
              0.3333333333333333,
              "#9c179e"
             ],
             [
              0.4444444444444444,
              "#bd3786"
             ],
             [
              0.5555555555555556,
              "#d8576b"
             ],
             [
              0.6666666666666666,
              "#ed7953"
             ],
             [
              0.7777777777777778,
              "#fb9f3a"
             ],
             [
              0.8888888888888888,
              "#fdca26"
             ],
             [
              1,
              "#f0f921"
             ]
            ],
            "type": "histogram2d"
           }
          ],
          "histogram2dcontour": [
           {
            "colorbar": {
             "outlinewidth": 0,
             "ticks": ""
            },
            "colorscale": [
             [
              0,
              "#0d0887"
             ],
             [
              0.1111111111111111,
              "#46039f"
             ],
             [
              0.2222222222222222,
              "#7201a8"
             ],
             [
              0.3333333333333333,
              "#9c179e"
             ],
             [
              0.4444444444444444,
              "#bd3786"
             ],
             [
              0.5555555555555556,
              "#d8576b"
             ],
             [
              0.6666666666666666,
              "#ed7953"
             ],
             [
              0.7777777777777778,
              "#fb9f3a"
             ],
             [
              0.8888888888888888,
              "#fdca26"
             ],
             [
              1,
              "#f0f921"
             ]
            ],
            "type": "histogram2dcontour"
           }
          ],
          "mesh3d": [
           {
            "colorbar": {
             "outlinewidth": 0,
             "ticks": ""
            },
            "type": "mesh3d"
           }
          ],
          "parcoords": [
           {
            "line": {
             "colorbar": {
              "outlinewidth": 0,
              "ticks": ""
             }
            },
            "type": "parcoords"
           }
          ],
          "pie": [
           {
            "automargin": true,
            "type": "pie"
           }
          ],
          "scatter": [
           {
            "fillpattern": {
             "fillmode": "overlay",
             "size": 10,
             "solidity": 0.2
            },
            "type": "scatter"
           }
          ],
          "scatter3d": [
           {
            "line": {
             "colorbar": {
              "outlinewidth": 0,
              "ticks": ""
             }
            },
            "marker": {
             "colorbar": {
              "outlinewidth": 0,
              "ticks": ""
             }
            },
            "type": "scatter3d"
           }
          ],
          "scattercarpet": [
           {
            "marker": {
             "colorbar": {
              "outlinewidth": 0,
              "ticks": ""
             }
            },
            "type": "scattercarpet"
           }
          ],
          "scattergeo": [
           {
            "marker": {
             "colorbar": {
              "outlinewidth": 0,
              "ticks": ""
             }
            },
            "type": "scattergeo"
           }
          ],
          "scattergl": [
           {
            "marker": {
             "colorbar": {
              "outlinewidth": 0,
              "ticks": ""
             }
            },
            "type": "scattergl"
           }
          ],
          "scattermapbox": [
           {
            "marker": {
             "colorbar": {
              "outlinewidth": 0,
              "ticks": ""
             }
            },
            "type": "scattermapbox"
           }
          ],
          "scatterpolar": [
           {
            "marker": {
             "colorbar": {
              "outlinewidth": 0,
              "ticks": ""
             }
            },
            "type": "scatterpolar"
           }
          ],
          "scatterpolargl": [
           {
            "marker": {
             "colorbar": {
              "outlinewidth": 0,
              "ticks": ""
             }
            },
            "type": "scatterpolargl"
           }
          ],
          "scatterternary": [
           {
            "marker": {
             "colorbar": {
              "outlinewidth": 0,
              "ticks": ""
             }
            },
            "type": "scatterternary"
           }
          ],
          "surface": [
           {
            "colorbar": {
             "outlinewidth": 0,
             "ticks": ""
            },
            "colorscale": [
             [
              0,
              "#0d0887"
             ],
             [
              0.1111111111111111,
              "#46039f"
             ],
             [
              0.2222222222222222,
              "#7201a8"
             ],
             [
              0.3333333333333333,
              "#9c179e"
             ],
             [
              0.4444444444444444,
              "#bd3786"
             ],
             [
              0.5555555555555556,
              "#d8576b"
             ],
             [
              0.6666666666666666,
              "#ed7953"
             ],
             [
              0.7777777777777778,
              "#fb9f3a"
             ],
             [
              0.8888888888888888,
              "#fdca26"
             ],
             [
              1,
              "#f0f921"
             ]
            ],
            "type": "surface"
           }
          ],
          "table": [
           {
            "cells": {
             "fill": {
              "color": "#EBF0F8"
             },
             "line": {
              "color": "white"
             }
            },
            "header": {
             "fill": {
              "color": "#C8D4E3"
             },
             "line": {
              "color": "white"
             }
            },
            "type": "table"
           }
          ]
         },
         "layout": {
          "annotationdefaults": {
           "arrowcolor": "#2a3f5f",
           "arrowhead": 0,
           "arrowwidth": 1
          },
          "autotypenumbers": "strict",
          "coloraxis": {
           "colorbar": {
            "outlinewidth": 0,
            "ticks": ""
           }
          },
          "colorscale": {
           "diverging": [
            [
             0,
             "#8e0152"
            ],
            [
             0.1,
             "#c51b7d"
            ],
            [
             0.2,
             "#de77ae"
            ],
            [
             0.3,
             "#f1b6da"
            ],
            [
             0.4,
             "#fde0ef"
            ],
            [
             0.5,
             "#f7f7f7"
            ],
            [
             0.6,
             "#e6f5d0"
            ],
            [
             0.7,
             "#b8e186"
            ],
            [
             0.8,
             "#7fbc41"
            ],
            [
             0.9,
             "#4d9221"
            ],
            [
             1,
             "#276419"
            ]
           ],
           "sequential": [
            [
             0,
             "#0d0887"
            ],
            [
             0.1111111111111111,
             "#46039f"
            ],
            [
             0.2222222222222222,
             "#7201a8"
            ],
            [
             0.3333333333333333,
             "#9c179e"
            ],
            [
             0.4444444444444444,
             "#bd3786"
            ],
            [
             0.5555555555555556,
             "#d8576b"
            ],
            [
             0.6666666666666666,
             "#ed7953"
            ],
            [
             0.7777777777777778,
             "#fb9f3a"
            ],
            [
             0.8888888888888888,
             "#fdca26"
            ],
            [
             1,
             "#f0f921"
            ]
           ],
           "sequentialminus": [
            [
             0,
             "#0d0887"
            ],
            [
             0.1111111111111111,
             "#46039f"
            ],
            [
             0.2222222222222222,
             "#7201a8"
            ],
            [
             0.3333333333333333,
             "#9c179e"
            ],
            [
             0.4444444444444444,
             "#bd3786"
            ],
            [
             0.5555555555555556,
             "#d8576b"
            ],
            [
             0.6666666666666666,
             "#ed7953"
            ],
            [
             0.7777777777777778,
             "#fb9f3a"
            ],
            [
             0.8888888888888888,
             "#fdca26"
            ],
            [
             1,
             "#f0f921"
            ]
           ]
          },
          "colorway": [
           "#636efa",
           "#EF553B",
           "#00cc96",
           "#ab63fa",
           "#FFA15A",
           "#19d3f3",
           "#FF6692",
           "#B6E880",
           "#FF97FF",
           "#FECB52"
          ],
          "font": {
           "color": "#2a3f5f"
          },
          "geo": {
           "bgcolor": "white",
           "lakecolor": "white",
           "landcolor": "#E5ECF6",
           "showlakes": true,
           "showland": true,
           "subunitcolor": "white"
          },
          "hoverlabel": {
           "align": "left"
          },
          "hovermode": "closest",
          "mapbox": {
           "style": "light"
          },
          "paper_bgcolor": "white",
          "plot_bgcolor": "#E5ECF6",
          "polar": {
           "angularaxis": {
            "gridcolor": "white",
            "linecolor": "white",
            "ticks": ""
           },
           "bgcolor": "#E5ECF6",
           "radialaxis": {
            "gridcolor": "white",
            "linecolor": "white",
            "ticks": ""
           }
          },
          "scene": {
           "xaxis": {
            "backgroundcolor": "#E5ECF6",
            "gridcolor": "white",
            "gridwidth": 2,
            "linecolor": "white",
            "showbackground": true,
            "ticks": "",
            "zerolinecolor": "white"
           },
           "yaxis": {
            "backgroundcolor": "#E5ECF6",
            "gridcolor": "white",
            "gridwidth": 2,
            "linecolor": "white",
            "showbackground": true,
            "ticks": "",
            "zerolinecolor": "white"
           },
           "zaxis": {
            "backgroundcolor": "#E5ECF6",
            "gridcolor": "white",
            "gridwidth": 2,
            "linecolor": "white",
            "showbackground": true,
            "ticks": "",
            "zerolinecolor": "white"
           }
          },
          "shapedefaults": {
           "line": {
            "color": "#2a3f5f"
           }
          },
          "ternary": {
           "aaxis": {
            "gridcolor": "white",
            "linecolor": "white",
            "ticks": ""
           },
           "baxis": {
            "gridcolor": "white",
            "linecolor": "white",
            "ticks": ""
           },
           "bgcolor": "#E5ECF6",
           "caxis": {
            "gridcolor": "white",
            "linecolor": "white",
            "ticks": ""
           }
          },
          "title": {
           "x": 0.05
          },
          "xaxis": {
           "automargin": true,
           "gridcolor": "white",
           "linecolor": "white",
           "ticks": "",
           "title": {
            "standoff": 15
           },
           "zerolinecolor": "white",
           "zerolinewidth": 2
          },
          "yaxis": {
           "automargin": true,
           "gridcolor": "white",
           "linecolor": "white",
           "ticks": "",
           "title": {
            "standoff": 15
           },
           "zerolinecolor": "white",
           "zerolinewidth": 2
          }
         }
        },
        "title": {
         "text": "Feature Importances"
        },
        "xaxis": {
         "autorange": true,
         "range": [
          -0.5,
          37.5
         ],
         "type": "category"
        },
        "yaxis": {
         "autorange": true,
         "range": [
          0,
          0.4160131217870359
         ],
         "type": "linear"
        }
       }
      },
      "image/png": "[encoded data removed]",
      "text/html": [
       "<div>                            <div id=\"5fbf036d-ca99-48ce-9dc0-ec874ee6ca53\" class=\"plotly-graph-div\" style=\"height:525px; width:100%;\"></div>            <script type=\"text/javascript\">                require([\"plotly\"], function(Plotly) {                    window.PLOTLYENV=window.PLOTLYENV || {};                                    if (document.getElementById(\"5fbf036d-ca99-48ce-9dc0-ec874ee6ca53\")) {                    Plotly.newPlot(                        \"5fbf036d-ca99-48ce-9dc0-ec874ee6ca53\",                        [{\"x\":[\"CODE_GENDER_0\",\"CODE_GENDER_1\",\"FLAG_EMAIL_0\",\"FLAG_EMAIL_1\",\"FLAG_MOBIL_0\",\"FLAG_OWN_CAR_0\",\"FLAG_OWN_CAR_1\",\"FLAG_OWN_REALTY_0\",\"FLAG_OWN_REALTY_1\",\"FLAG_PHONE_0\",\"FLAG_PHONE_1\",\"FLAG_WORK_PHONE_0\",\"FLAG_WORK_PHONE_1\",\"NAME_EDUCATION_TYPE_Academic degree\",\"NAME_EDUCATION_TYPE_Higher education\",\"NAME_EDUCATION_TYPE_Incomplete higher\",\"NAME_EDUCATION_TYPE_Lower secondary\",\"NAME_EDUCATION_TYPE_Secondary \\u002f secondary special\",\"NAME_FAMILY_STATUS_Civil marriage\",\"NAME_FAMILY_STATUS_Married\",\"NAME_FAMILY_STATUS_Separated\",\"NAME_FAMILY_STATUS_Single \\u002f not married\",\"NAME_FAMILY_STATUS_Widow\",\"NAME_HOUSING_TYPE_Co-op apartment\",\"NAME_HOUSING_TYPE_House \\u002f apartment\",\"NAME_HOUSING_TYPE_Municipal apartment\",\"NAME_HOUSING_TYPE_Office apartment\",\"NAME_HOUSING_TYPE_Rented apartment\",\"NAME_HOUSING_TYPE_With parents\",\"NAME_INCOME_TYPE_Commercial associate\",\"NAME_INCOME_TYPE_Pensioner\",\"NAME_INCOME_TYPE_State servant\",\"NAME_INCOME_TYPE_Student\",\"NAME_INCOME_TYPE_Working\",\"CNT_CHILDREN\",\"CNT_FAM_MEMBERS\",\"DAYS_BIRTH\",\"DAYS_EMPLOYED\"],\"y\":[0.39521246569768415,0.2621878815184677,0.03658051388136658,0.02999626211922638,0.01602897726086279,0.015808795530041102,0.014309334883620359,0.014029643164528515,0.013788299142413413,0.013786236169767796,0.012690645294057118,0.012297779702388253,0.011866449096290772,0.01161095389900917,0.0113699651319326,0.011236292079646819,0.010124730377490912,0.0100899146876969,0.009336849181688589,0.008975390863750002,0.008736765825556039,0.00814156602491507,0.006785802845242765,0.00668187338135586,0.006452494203077871,0.006129238347688037,0.005883274952052066,0.005680647322370791,0.0052223308411854475,0.004941530563999775,0.0038673287074300045,0.0033475011683975165,0.002193898802181793,0.001766850690951839,0.0017403108241060652,0.0006969524276575513,0.0004042533899014961,0.0],\"type\":\"bar\"}],                        {\"title\":{\"text\":\"Feature Importances\"},\"template\":{\"data\":{\"histogram2dcontour\":[{\"type\":\"histogram2dcontour\",\"colorbar\":{\"outlinewidth\":0,\"ticks\":\"\"},\"colorscale\":[[0.0,\"#0d0887\"],[0.1111111111111111,\"#46039f\"],[0.2222222222222222,\"#7201a8\"],[0.3333333333333333,\"#9c179e\"],[0.4444444444444444,\"#bd3786\"],[0.5555555555555556,\"#d8576b\"],[0.6666666666666666,\"#ed7953\"],[0.7777777777777778,\"#fb9f3a\"],[0.8888888888888888,\"#fdca26\"],[1.0,\"#f0f921\"]]}],\"choropleth\":[{\"type\":\"choropleth\",\"colorbar\":{\"outlinewidth\":0,\"ticks\":\"\"}}],\"histogram2d\":[{\"type\":\"histogram2d\",\"colorbar\":{\"outlinewidth\":0,\"ticks\":\"\"},\"colorscale\":[[0.0,\"#0d0887\"],[0.1111111111111111,\"#46039f\"],[0.2222222222222222,\"#7201a8\"],[0.3333333333333333,\"#9c179e\"],[0.4444444444444444,\"#bd3786\"],[0.5555555555555556,\"#d8576b\"],[0.6666666666666666,\"#ed7953\"],[0.7777777777777778,\"#fb9f3a\"],[0.8888888888888888,\"#fdca26\"],[1.0,\"#f0f921\"]]}],\"heatmap\":[{\"type\":\"heatmap\",\"colorbar\":{\"outlinewidth\":0,\"ticks\":\"\"},\"colorscale\":[[0.0,\"#0d0887\"],[0.1111111111111111,\"#46039f\"],[0.2222222222222222,\"#7201a8\"],[0.3333333333333333,\"#9c179e\"],[0.4444444444444444,\"#bd3786\"],[0.5555555555555556,\"#d8576b\"],[0.6666666666666666,\"#ed7953\"],[0.7777777777777778,\"#fb9f3a\"],[0.8888888888888888,\"#fdca26\"],[1.0,\"#f0f921\"]]}],\"heatmapgl\":[{\"type\":\"heatmapgl\",\"colorbar\":{\"outlinewidth\":0,\"ticks\":\"\"},\"colorscale\":[[0.0,\"#0d0887\"],[0.1111111111111111,\"#46039f\"],[0.2222222222222222,\"#7201a8\"],[0.3333333333333333,\"#9c179e\"],[0.4444444444444444,\"#bd3786\"],[0.5555555555555556,\"#d8576b\"],[0.6666666666666666,\"#ed7953\"],[0.7777777777777778,\"#fb9f3a\"],[0.8888888888888888,\"#fdca26\"],[1.0,\"#f0f921\"]]}],\"contourcarpet\":[{\"type\":\"contourcarpet\",\"colorbar\":{\"outlinewidth\":0,\"ticks\":\"\"}}],\"contour\":[{\"type\":\"contour\",\"colorbar\":{\"outlinewidth\":0,\"ticks\":\"\"},\"colorscale\":[[0.0,\"#0d0887\"],[0.1111111111111111,\"#46039f\"],[0.2222222222222222,\"#7201a8\"],[0.3333333333333333,\"#9c179e\"],[0.4444444444444444,\"#bd3786\"],[0.5555555555555556,\"#d8576b\"],[0.6666666666666666,\"#ed7953\"],[0.7777777777777778,\"#fb9f3a\"],[0.8888888888888888,\"#fdca26\"],[1.0,\"#f0f921\"]]}],\"surface\":[{\"type\":\"surface\",\"colorbar\":{\"outlinewidth\":0,\"ticks\":\"\"},\"colorscale\":[[0.0,\"#0d0887\"],[0.1111111111111111,\"#46039f\"],[0.2222222222222222,\"#7201a8\"],[0.3333333333333333,\"#9c179e\"],[0.4444444444444444,\"#bd3786\"],[0.5555555555555556,\"#d8576b\"],[0.6666666666666666,\"#ed7953\"],[0.7777777777777778,\"#fb9f3a\"],[0.8888888888888888,\"#fdca26\"],[1.0,\"#f0f921\"]]}],\"mesh3d\":[{\"type\":\"mesh3d\",\"colorbar\":{\"outlinewidth\":0,\"ticks\":\"\"}}],\"scatter\":[{\"fillpattern\":{\"fillmode\":\"overlay\",\"size\":10,\"solidity\":0.2},\"type\":\"scatter\"}],\"parcoords\":[{\"type\":\"parcoords\",\"line\":{\"colorbar\":{\"outlinewidth\":0,\"ticks\":\"\"}}}],\"scatterpolargl\":[{\"type\":\"scatterpolargl\",\"marker\":{\"colorbar\":{\"outlinewidth\":0,\"ticks\":\"\"}}}],\"bar\":[{\"error_x\":{\"color\":\"#2a3f5f\"},\"error_y\":{\"color\":\"#2a3f5f\"},\"marker\":{\"line\":{\"color\":\"#E5ECF6\",\"width\":0.5},\"pattern\":{\"fillmode\":\"overlay\",\"size\":10,\"solidity\":0.2}},\"type\":\"bar\"}],\"scattergeo\":[{\"type\":\"scattergeo\",\"marker\":{\"colorbar\":{\"outlinewidth\":0,\"ticks\":\"\"}}}],\"scatterpolar\":[{\"type\":\"scatterpolar\",\"marker\":{\"colorbar\":{\"outlinewidth\":0,\"ticks\":\"\"}}}],\"histogram\":[{\"marker\":{\"pattern\":{\"fillmode\":\"overlay\",\"size\":10,\"solidity\":0.2}},\"type\":\"histogram\"}],\"scattergl\":[{\"type\":\"scattergl\",\"marker\":{\"colorbar\":{\"outlinewidth\":0,\"ticks\":\"\"}}}],\"scatter3d\":[{\"type\":\"scatter3d\",\"line\":{\"colorbar\":{\"outlinewidth\":0,\"ticks\":\"\"}},\"marker\":{\"colorbar\":{\"outlinewidth\":0,\"ticks\":\"\"}}}],\"scattermapbox\":[{\"type\":\"scattermapbox\",\"marker\":{\"colorbar\":{\"outlinewidth\":0,\"ticks\":\"\"}}}],\"scatterternary\":[{\"type\":\"scatterternary\",\"marker\":{\"colorbar\":{\"outlinewidth\":0,\"ticks\":\"\"}}}],\"scattercarpet\":[{\"type\":\"scattercarpet\",\"marker\":{\"colorbar\":{\"outlinewidth\":0,\"ticks\":\"\"}}}],\"carpet\":[{\"aaxis\":{\"endlinecolor\":\"#2a3f5f\",\"gridcolor\":\"white\",\"linecolor\":\"white\",\"minorgridcolor\":\"white\",\"startlinecolor\":\"#2a3f5f\"},\"baxis\":{\"endlinecolor\":\"#2a3f5f\",\"gridcolor\":\"white\",\"linecolor\":\"white\",\"minorgridcolor\":\"white\",\"startlinecolor\":\"#2a3f5f\"},\"type\":\"carpet\"}],\"table\":[{\"cells\":{\"fill\":{\"color\":\"#EBF0F8\"},\"line\":{\"color\":\"white\"}},\"header\":{\"fill\":{\"color\":\"#C8D4E3\"},\"line\":{\"color\":\"white\"}},\"type\":\"table\"}],\"barpolar\":[{\"marker\":{\"line\":{\"color\":\"#E5ECF6\",\"width\":0.5},\"pattern\":{\"fillmode\":\"overlay\",\"size\":10,\"solidity\":0.2}},\"type\":\"barpolar\"}],\"pie\":[{\"automargin\":true,\"type\":\"pie\"}]},\"layout\":{\"autotypenumbers\":\"strict\",\"colorway\":[\"#636efa\",\"#EF553B\",\"#00cc96\",\"#ab63fa\",\"#FFA15A\",\"#19d3f3\",\"#FF6692\",\"#B6E880\",\"#FF97FF\",\"#FECB52\"],\"font\":{\"color\":\"#2a3f5f\"},\"hovermode\":\"closest\",\"hoverlabel\":{\"align\":\"left\"},\"paper_bgcolor\":\"white\",\"plot_bgcolor\":\"#E5ECF6\",\"polar\":{\"bgcolor\":\"#E5ECF6\",\"angularaxis\":{\"gridcolor\":\"white\",\"linecolor\":\"white\",\"ticks\":\"\"},\"radialaxis\":{\"gridcolor\":\"white\",\"linecolor\":\"white\",\"ticks\":\"\"}},\"ternary\":{\"bgcolor\":\"#E5ECF6\",\"aaxis\":{\"gridcolor\":\"white\",\"linecolor\":\"white\",\"ticks\":\"\"},\"baxis\":{\"gridcolor\":\"white\",\"linecolor\":\"white\",\"ticks\":\"\"},\"caxis\":{\"gridcolor\":\"white\",\"linecolor\":\"white\",\"ticks\":\"\"}},\"coloraxis\":{\"colorbar\":{\"outlinewidth\":0,\"ticks\":\"\"}},\"colorscale\":{\"sequential\":[[0.0,\"#0d0887\"],[0.1111111111111111,\"#46039f\"],[0.2222222222222222,\"#7201a8\"],[0.3333333333333333,\"#9c179e\"],[0.4444444444444444,\"#bd3786\"],[0.5555555555555556,\"#d8576b\"],[0.6666666666666666,\"#ed7953\"],[0.7777777777777778,\"#fb9f3a\"],[0.8888888888888888,\"#fdca26\"],[1.0,\"#f0f921\"]],\"sequentialminus\":[[0.0,\"#0d0887\"],[0.1111111111111111,\"#46039f\"],[0.2222222222222222,\"#7201a8\"],[0.3333333333333333,\"#9c179e\"],[0.4444444444444444,\"#bd3786\"],[0.5555555555555556,\"#d8576b\"],[0.6666666666666666,\"#ed7953\"],[0.7777777777777778,\"#fb9f3a\"],[0.8888888888888888,\"#fdca26\"],[1.0,\"#f0f921\"]],\"diverging\":[[0,\"#8e0152\"],[0.1,\"#c51b7d\"],[0.2,\"#de77ae\"],[0.3,\"#f1b6da\"],[0.4,\"#fde0ef\"],[0.5,\"#f7f7f7\"],[0.6,\"#e6f5d0\"],[0.7,\"#b8e186\"],[0.8,\"#7fbc41\"],[0.9,\"#4d9221\"],[1,\"#276419\"]]},\"xaxis\":{\"gridcolor\":\"white\",\"linecolor\":\"white\",\"ticks\":\"\",\"title\":{\"standoff\":15},\"zerolinecolor\":\"white\",\"automargin\":true,\"zerolinewidth\":2},\"yaxis\":{\"gridcolor\":\"white\",\"linecolor\":\"white\",\"ticks\":\"\",\"title\":{\"standoff\":15},\"zerolinecolor\":\"white\",\"automargin\":true,\"zerolinewidth\":2},\"scene\":{\"xaxis\":{\"backgroundcolor\":\"#E5ECF6\",\"gridcolor\":\"white\",\"linecolor\":\"white\",\"showbackground\":true,\"ticks\":\"\",\"zerolinecolor\":\"white\",\"gridwidth\":2},\"yaxis\":{\"backgroundcolor\":\"#E5ECF6\",\"gridcolor\":\"white\",\"linecolor\":\"white\",\"showbackground\":true,\"ticks\":\"\",\"zerolinecolor\":\"white\",\"gridwidth\":2},\"zaxis\":{\"backgroundcolor\":\"#E5ECF6\",\"gridcolor\":\"white\",\"linecolor\":\"white\",\"showbackground\":true,\"ticks\":\"\",\"zerolinecolor\":\"white\",\"gridwidth\":2}},\"shapedefaults\":{\"line\":{\"color\":\"#2a3f5f\"}},\"annotationdefaults\":{\"arrowcolor\":\"#2a3f5f\",\"arrowhead\":0,\"arrowwidth\":1},\"geo\":{\"bgcolor\":\"white\",\"landcolor\":\"#E5ECF6\",\"subunitcolor\":\"white\",\"showland\":true,\"showlakes\":true,\"lakecolor\":\"white\"},\"title\":{\"x\":0.05},\"mapbox\":{\"style\":\"light\"}}}},                        {\"responsive\": true}                    ).then(function(){\n",
       "                            \n",
       "var gd = document.getElementById('5fbf036d-ca99-48ce-9dc0-ec874ee6ca53');\n",
       "var x = new MutationObserver(function (mutations, observer) {{\n",
       "        var display = window.getComputedStyle(gd).display;\n",
       "        if (!display || display === 'none') {{\n",
       "            console.log([gd, 'removed!']);\n",
       "            Plotly.purge(gd);\n",
       "            observer.disconnect();\n",
       "        }}\n",
       "}});\n",
       "\n",
       "// Listen for the removal of the full notebook cells\n",
       "var notebookContainer = gd.closest('#notebook-container');\n",
       "if (notebookContainer) {{\n",
       "    x.observe(notebookContainer, {childList: true});\n",
       "}}\n",
       "\n",
       "// Listen for the clearing of the current output cell\n",
       "var outputEl = gd.closest('.output');\n",
       "if (outputEl) {{\n",
       "    x.observe(outputEl, {childList: true});\n",
       "}}\n",
       "\n",
       "                        })                };                });            </script>        </div>"
      ]
     },
     "metadata": {},
     "output_type": "display_data"
    }
   ],
   "source": [
    "import plotly.graph_objs as go\n",
    "# feature names\n",
    "feature_names = X_val_scaled.columns\n",
    "\n",
    "# Get the feature importances\n",
    "importances = best_model.feature_importances_\n",
    "\n",
    "# Get the indices that would sort the importances in ascending order\n",
    "sorted_indices = np.argsort(importances)\n",
    "\n",
    "# Reverse the order of the sorted indices to get descending order\n",
    "descending_indices = sorted_indices[::-1]\n",
    "\n",
    "# Sort the importances and feature names in descending order\n",
    "importances_descending = importances[descending_indices]\n",
    "feature_names_descending = feature_names[descending_indices]\n",
    "\n",
    "# Create a bar chart of the feature importances\n",
    "fig = go.Figure(\n",
    "    data=[go.Bar(x=feature_names, y=importances_descending)],\n",
    "    layout=go.Layout(title=\"Feature Importances\")\n",
    ")\n",
    "\n",
    "# Show the chart\n",
    "fig.show()"
   ]
  },
  {
   "cell_type": "code",
   "execution_count": 61,
   "id": "fafc2d02-3a7f-423f-9f0e-2cf671ef6073",
   "metadata": {},
   "outputs": [
    {
     "name": "stdout",
     "output_type": "stream",
     "text": [
      "              precision    recall  f1-score   support\n",
      "\n",
      "         0.0       0.69      0.49      0.57     30269\n",
      "         1.0       0.72      0.86      0.79     47503\n",
      "\n",
      "    accuracy                           0.71     77772\n",
      "   macro avg       0.71      0.67      0.68     77772\n",
      "weighted avg       0.71      0.71      0.70     77772\n",
      "\n"
     ]
    }
   ],
   "source": [
    "#predict model on test set\n",
    "y_pred_test = best_model.predict(X_test_scaled)\n",
    "\n",
    "# Generate the classification report\n",
    "report = classification_report(y_test, y_pred_test)\n",
    "\n",
    "# Print the report\n",
    "print(report)"
   ]
  },
  {
   "cell_type": "code",
   "execution_count": 62,
   "id": "ebcc0240-6eb8-486a-9a79-dc4fdff2d1fc",
   "metadata": {},
   "outputs": [
    {
     "data": {
      "text/plain": [
       "['bm.joblib']"
      ]
     },
     "execution_count": 62,
     "metadata": {},
     "output_type": "execute_result"
    }
   ],
   "source": [
    "joblib.dump(best_model,'bm.joblib')"
   ]
  },
  {
   "cell_type": "code",
   "execution_count": 63,
   "id": "4ed01901-dc48-4f88-b546-1281b63cfaa8",
   "metadata": {},
   "outputs": [],
   "source": [
    "bm=joblib.load('bm.joblib')"
   ]
  },
  {
   "cell_type": "code",
   "execution_count": 64,
   "id": "21f55484-622d-4fc3-9b69-5b3ee6ab475d",
   "metadata": {},
   "outputs": [
    {
     "name": "stdout",
     "output_type": "stream",
     "text": [
      "              precision    recall  f1-score   support\n",
      "\n",
      "         0.0       0.69      0.49      0.57     30269\n",
      "         1.0       0.72      0.86      0.79     47503\n",
      "\n",
      "    accuracy                           0.71     77772\n",
      "   macro avg       0.71      0.67      0.68     77772\n",
      "weighted avg       0.71      0.71      0.70     77772\n",
      "\n"
     ]
    }
   ],
   "source": [
    "#predict model on test set\n",
    "y_pred_test = bm.predict(X_test_scaled)\n",
    "\n",
    "# Generate the classification report\n",
    "report = classification_report(y_test, y_pred_test)\n",
    "\n",
    "# Print the report\n",
    "print(report)"
   ]
  },
  {
   "cell_type": "code",
   "execution_count": 89,
   "id": "37389b57-e10f-45ba-8f36-504e85b8b5a6",
   "metadata": {},
   "outputs": [
    {
     "data": {
      "text/plain": [
       "['preprocessing_steps.joblib']"
      ]
     },
     "execution_count": 89,
     "metadata": {},
     "output_type": "execute_result"
    }
   ],
   "source": [
    "joblib.dump({\n",
    "    'binary_encoder': b_encoder,\n",
    "    'one_hot_encoder': encoder,\n",
    "    'scaler': scaler,\n",
    "}, 'preprocessing_steps.joblib')"
   ]
  },
  {
   "cell_type": "code",
   "execution_count": null,
   "id": "e8681b80-2050-4d20-b38a-62bd0f1eea23",
   "metadata": {},
   "outputs": [],
   "source": []
  }
 ],
 "metadata": {
  "kernelspec": {
   "display_name": "Python 3 (ipykernel)",
   "language": "python",
   "name": "python3"
  },
  "language_info": {
   "codemirror_mode": {
    "name": "ipython",
    "version": 3
   },
   "file_extension": ".py",
   "mimetype": "text/x-python",
   "name": "python",
   "nbconvert_exporter": "python",
   "pygments_lexer": "ipython3",
   "version": "3.11.6"
  }
 },
 "nbformat": 4,
 "nbformat_minor": 5
}
